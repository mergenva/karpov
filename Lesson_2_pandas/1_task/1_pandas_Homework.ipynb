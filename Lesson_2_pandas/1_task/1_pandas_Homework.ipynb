{
 "cells": [
  {
   "cell_type": "markdown",
   "metadata": {
    "id": "OGLSu7a7bV9t"
   },
   "source": [
    "# Проект урока 1. Знакомство с библиотекой Pandas\n",
    "# «Анализ данных о поездках на такси в Нью-Йорке»"
   ]
  },
  {
   "cell_type": "markdown",
   "metadata": {
    "id": "mU4lYwHVbV9y"
   },
   "source": [
    "## Шаг 1"
   ]
  },
  {
   "cell_type": "markdown",
   "metadata": {
    "id": "RAqIVtymbV9z"
   },
   "source": [
    "В первом проекте вы будете работать с реальным набором данных о поездках на такси в Нью-Йорке. Датасет включает в себя информацию о датах и времени поездок, метеорологических условиях в это время, а также о том, является день праздничным или выходным. Описание колонок:\n",
    "* pickup_dt – период с точностью до часа\n",
    "* pickup_month – месяц\n",
    "* borough – район Нью-Йорка, из которого был сделан заказ (5 районов + аэропорт)\n",
    "* pickups – число поездок за период (час)\n",
    "* hday – является ли день праздничным/выходным; Y — да,  N — нет\n",
    "* spd – скорость ветра в милях в час\n",
    "* vsb – видимость\n",
    "* temp – температура в градусах Фаренгейта\n",
    "* dewp – точка росы по Фаренгейту\n",
    "* slp – давление\n",
    "* pcp_01 – количество осадков за час\n",
    "* pcp_06 – количество осадков за 6 часов\n",
    "* pcp_24 – количество осадков за 24 часа\n",
    "* sd – глубина снега в дюймах\n",
    "\n",
    "Каждая строка в датасете — запись не об одной конкретной поездке, а о всех поездках, сделанных за определенный час из того или иного района Нью-Йорка, и о том, какие были показатели погоды в этот час.  \n",
    "\n",
    "Ваша задача в этом уроке — применить навыки работы с библиотекой pandas для анализа и обработки данных. Вы научитесь загружать данные, проверять их структуру, обрабатывать и анализировать, используя различные методы и функции pandas.\n",
    "Ваша конечная цель — не только успешно выполнить все задачи, но и получить ценные инсайты из анализируемого датасета."
   ]
  },
  {
   "cell_type": "markdown",
   "metadata": {
    "id": "Jyq796CYbV90"
   },
   "source": [
    "Вы можете решать задания тем способом, который считаете наиболее удобным или оптимальным. А для того, чтобы лучше понять задание, рекомендуем выполнять его по шагам. Бывает, что их можно выполнить в одну строчку, применяя методы друг за другом. А если выполняете шаги отдельно, не забудьте сохранить результат в переменную, чтобы в следующем шаге работать именно с ней.\n",
    "\n",
    "В ноутбуке место для вашего решения обозначено комментарием `# Ваш код здесь`, но вы можете писать код там, где вам удобно, добавлять или удалять ячейки с кодом или текстом по вашему усмотрению.\n",
    "\n",
    "Напоминаем и о [памятке на Notion](https://www.notion.so/5214565bd5dd4152b20c364c1528258b)! Очень многие проблемы, описанные в ней, часто встречаются именно в этом уроке, поэтому рекомендуем открыть её в отдельном окне и периодически с ней сверяться.  \n",
    "\n",
    "Кроме того можно посмотреть подсказки, кликнув на строчку `► Нажмите сюда, чтобы увидеть подсказку`. Также не забывайте о наличии конспектов и возможности задать вопрос в Discord, ссылка на нужный тред есть на странице каждого шага в LMS."
   ]
  },
  {
   "cell_type": "markdown",
   "metadata": {
    "id": "0o5vNHhgbV90"
   },
   "source": [
    "## Шаг 2"
   ]
  },
  {
   "cell_type": "markdown",
   "metadata": {
    "id": "uY56RSRtbV90"
   },
   "source": [
    "Перед открытием датасета нужно импортировать библиотеку pandas. Начнем с простого вопроса: **что произойдет в результате выполнения следующей команды?**\n",
    "\n",
    "```python\n",
    "import pandas as pnds\n",
    "```"
   ]
  },
  {
   "cell_type": "markdown",
   "metadata": {
    "id": "mNm78gsVbV91"
   },
   "source": [
    "**Выберите один вариант:**\n",
    "\n",
    "* Сможем использовать библиотеку pandas, обращаясь к ней как pnds\n",
    "* Вовсе не сможем использовать библиотеку, потому что использовали сокращение pnds, а не pd\n",
    "* Сможем использовать библиотеку pandas, обращаясь и как pandas, и как pnds"
   ]
  },
  {
   "cell_type": "markdown",
   "metadata": {
    "id": "HhTCx-71bV91"
   },
   "source": [
    "<details>\n",
    "<summary>&#9658; Нажмите сюда, чтобы увидеть подсказку</summary>\n",
    "  <p>Попробуйте ввести в юпитер ноутбуке код\n",
    "      \n",
    "```python\n",
    "import pandas as pnds\n",
    "```\n",
    "И обратиться к пандасу через `pd` или `pnds`, например, создать пустой датафрейм:\n",
    "      \n",
    "```python\n",
    "df = pnds.DataFrame()\n",
    "```\n",
    "</p>\n",
    "</details>"
   ]
  },
  {
   "cell_type": "code",
   "execution_count": 1,
   "metadata": {
    "id": "0yjUTGNdbV92"
   },
   "outputs": [],
   "source": [
    "# Ваш код здесь\n",
    "\n",
    "import pandas as pnds\n"
   ]
  },
  {
   "cell_type": "markdown",
   "metadata": {
    "id": "sVwlbjRLbV94"
   },
   "source": [
    "## Шаг 3"
   ]
  },
  {
   "cell_type": "markdown",
   "metadata": {
    "id": "7nIvwtg5bV94"
   },
   "source": [
    "В этом задании вы потренируетесь читать данные из csv файла. Откройте датасет с данными о поезках такси в Нью-Йорке и сохраните его в переменную `taxi`. **Определите, какой индекс имеет самая верхняя строка?**\n",
    "\n",
    "Шаги выполнения:\n",
    "\n",
    "1. Импортируйте библиотеку pandas с общепринятым алиасом (псевдонимом) pd"
   ]
  },
  {
   "cell_type": "markdown",
   "metadata": {
    "id": "W3oSu8zEbV94"
   },
   "source": [
    "<details>\n",
    "<summary>&#9658; Нажмите сюда, чтобы увидеть подсказку</summary>\n",
    "  <p>\n",
    "\n",
    "Для импорта библиотеки напишите:\n",
    "```python\n",
    "import library as shortcut\n",
    "```\n",
    "где вместо `library` подставьте название библиотеки (`pandas`), а вместо `shortcut` — его общераспространённое сокращённое название (`pd`).\n",
    "</p>\n",
    "</details>"
   ]
  },
  {
   "cell_type": "code",
   "execution_count": 1,
   "metadata": {
    "id": "rtz16p-tbV95"
   },
   "outputs": [],
   "source": [
    "# Ваш код здесь\n",
    "\n",
    "import pandas as pd\n"
   ]
  },
  {
   "cell_type": "markdown",
   "metadata": {
    "id": "zAB_zBWHbV95"
   },
   "source": [
    "2. Загрузите csv файл к уроку в свою папку в JupyterНub\n",
    "\n",
    "3. Прочитайте этот csv файл и сохраните его в переменную `taxi`"
   ]
  },
  {
   "cell_type": "markdown",
   "metadata": {
    "id": "DGS23K4cbV95"
   },
   "source": [
    "<details>\n",
    "<summary>&#9658; Нажмите сюда, чтобы увидеть подсказку</summary>\n",
    "  <p>\n",
    "      \n",
    "Данные о поездках на такси находятся в файле формата CSV. Для их загрузки воспользуйтесь функцией `pd.read_csv()`, передав в качестве аргумента путь к файлу. Например,\n",
    "```python\n",
    "df = pd.read_csv('data.csv')\n",
    "```\n",
    "cчитает файл `data.csv`, хранящийся в той же папке, что и юпитер ноутбук, в котором вы сейчас работаете.\n",
    "</p>\n",
    "</details>"
   ]
  },
  {
   "cell_type": "code",
   "execution_count": 2,
   "metadata": {
    "id": "xoum-JXAbV95"
   },
   "outputs": [],
   "source": [
    "# Ваш код здесь\n",
    "\n",
    "wb = pd.read_csv('taxi_nyc.csv')"
   ]
  },
  {
   "cell_type": "markdown",
   "metadata": {
    "id": "C6Bd0AFwbV95"
   },
   "source": [
    "4. Выведите первые строки датафрейма, чтобы посмотреть на данные и узнать индекс самой верхней строки"
   ]
  },
  {
   "cell_type": "markdown",
   "metadata": {
    "id": "H390WywrbV96"
   },
   "source": [
    "<details>\n",
    "<summary>&#9658; Нажмите сюда, чтобы увидеть подсказку</summary>\n",
    "  <p>\n",
    "      \n",
    "Используйте метод `head()`. Например, код\n",
    "```python\n",
    "df.head(10)\n",
    "```\n",
    "выведет первые 10 строк датафрейма `df`.\n",
    "      \n",
    "Визуально индекс можно определить так:\n",
    "\n",
    "1. Он всегда находится слева от столбцов\n",
    "2. Его название (если оно есть) написано ниже, чем названия столбцов\n",
    "</p>\n",
    "</details>"
   ]
  },
  {
   "cell_type": "code",
   "execution_count": 3,
   "metadata": {
    "id": "qRyDkv7PbV96"
   },
   "outputs": [
    {
     "data": {
      "text/html": [
       "<div>\n",
       "<style scoped>\n",
       "    .dataframe tbody tr th:only-of-type {\n",
       "        vertical-align: middle;\n",
       "    }\n",
       "\n",
       "    .dataframe tbody tr th {\n",
       "        vertical-align: top;\n",
       "    }\n",
       "\n",
       "    .dataframe thead th {\n",
       "        text-align: right;\n",
       "    }\n",
       "</style>\n",
       "<table border=\"1\" class=\"dataframe\">\n",
       "  <thead>\n",
       "    <tr style=\"text-align: right;\">\n",
       "      <th></th>\n",
       "      <th>pickup_dt</th>\n",
       "      <th>pickup_month</th>\n",
       "      <th>borough</th>\n",
       "      <th>pickups</th>\n",
       "      <th>hday</th>\n",
       "      <th>spd</th>\n",
       "      <th>vsb</th>\n",
       "      <th>temp</th>\n",
       "      <th>dewp</th>\n",
       "      <th>slp</th>\n",
       "      <th>pcp 01</th>\n",
       "      <th>pcp 06</th>\n",
       "      <th>pcp 24</th>\n",
       "      <th>sd</th>\n",
       "    </tr>\n",
       "  </thead>\n",
       "  <tbody>\n",
       "    <tr>\n",
       "      <th>0</th>\n",
       "      <td>2015-01-01 01:00:00</td>\n",
       "      <td>Jan</td>\n",
       "      <td>Bronx</td>\n",
       "      <td>152</td>\n",
       "      <td>Y</td>\n",
       "      <td>5.0</td>\n",
       "      <td>10.0</td>\n",
       "      <td>30.0</td>\n",
       "      <td>7.0</td>\n",
       "      <td>1023.5</td>\n",
       "      <td>0.0</td>\n",
       "      <td>0.0</td>\n",
       "      <td>0.0</td>\n",
       "      <td>0.0</td>\n",
       "    </tr>\n",
       "    <tr>\n",
       "      <th>1</th>\n",
       "      <td>2015-01-01 01:00:00</td>\n",
       "      <td>Jan</td>\n",
       "      <td>Brooklyn</td>\n",
       "      <td>1519</td>\n",
       "      <td>Y</td>\n",
       "      <td>5.0</td>\n",
       "      <td>10.0</td>\n",
       "      <td>30.0</td>\n",
       "      <td>7.0</td>\n",
       "      <td>1023.5</td>\n",
       "      <td>0.0</td>\n",
       "      <td>0.0</td>\n",
       "      <td>0.0</td>\n",
       "      <td>0.0</td>\n",
       "    </tr>\n",
       "    <tr>\n",
       "      <th>2</th>\n",
       "      <td>2015-01-01 01:00:00</td>\n",
       "      <td>Jan</td>\n",
       "      <td>EWR</td>\n",
       "      <td>0</td>\n",
       "      <td>Y</td>\n",
       "      <td>5.0</td>\n",
       "      <td>10.0</td>\n",
       "      <td>30.0</td>\n",
       "      <td>7.0</td>\n",
       "      <td>1023.5</td>\n",
       "      <td>0.0</td>\n",
       "      <td>0.0</td>\n",
       "      <td>0.0</td>\n",
       "      <td>0.0</td>\n",
       "    </tr>\n",
       "    <tr>\n",
       "      <th>3</th>\n",
       "      <td>2015-01-01 01:00:00</td>\n",
       "      <td>Jan</td>\n",
       "      <td>Manhattan</td>\n",
       "      <td>5258</td>\n",
       "      <td>Y</td>\n",
       "      <td>5.0</td>\n",
       "      <td>10.0</td>\n",
       "      <td>30.0</td>\n",
       "      <td>7.0</td>\n",
       "      <td>1023.5</td>\n",
       "      <td>0.0</td>\n",
       "      <td>0.0</td>\n",
       "      <td>0.0</td>\n",
       "      <td>0.0</td>\n",
       "    </tr>\n",
       "    <tr>\n",
       "      <th>4</th>\n",
       "      <td>2015-01-01 01:00:00</td>\n",
       "      <td>Jan</td>\n",
       "      <td>Queens</td>\n",
       "      <td>405</td>\n",
       "      <td>Y</td>\n",
       "      <td>5.0</td>\n",
       "      <td>10.0</td>\n",
       "      <td>30.0</td>\n",
       "      <td>7.0</td>\n",
       "      <td>1023.5</td>\n",
       "      <td>0.0</td>\n",
       "      <td>0.0</td>\n",
       "      <td>0.0</td>\n",
       "      <td>0.0</td>\n",
       "    </tr>\n",
       "  </tbody>\n",
       "</table>\n",
       "</div>"
      ],
      "text/plain": [
       "             pickup_dt pickup_month    borough  pickups hday  spd   vsb  temp  \\\n",
       "0  2015-01-01 01:00:00          Jan      Bronx      152    Y  5.0  10.0  30.0   \n",
       "1  2015-01-01 01:00:00          Jan   Brooklyn     1519    Y  5.0  10.0  30.0   \n",
       "2  2015-01-01 01:00:00          Jan        EWR        0    Y  5.0  10.0  30.0   \n",
       "3  2015-01-01 01:00:00          Jan  Manhattan     5258    Y  5.0  10.0  30.0   \n",
       "4  2015-01-01 01:00:00          Jan     Queens      405    Y  5.0  10.0  30.0   \n",
       "\n",
       "   dewp     slp  pcp 01  pcp 06  pcp 24   sd  \n",
       "0   7.0  1023.5     0.0     0.0     0.0  0.0  \n",
       "1   7.0  1023.5     0.0     0.0     0.0  0.0  \n",
       "2   7.0  1023.5     0.0     0.0     0.0  0.0  \n",
       "3   7.0  1023.5     0.0     0.0     0.0  0.0  \n",
       "4   7.0  1023.5     0.0     0.0     0.0  0.0  "
      ]
     },
     "execution_count": 3,
     "metadata": {},
     "output_type": "execute_result"
    }
   ],
   "source": [
    "# Ваш код здесь\n",
    "\n",
    "wb.head()"
   ]
  },
  {
   "cell_type": "markdown",
   "metadata": {
    "id": "XHzqGycDbV98"
   },
   "source": [
    "## Шаг 4"
   ]
  },
  {
   "cell_type": "markdown",
   "metadata": {
    "id": "3ieDZDplbV98"
   },
   "source": [
    "После загрузки данных полезно получить базовое представление об их структуре и содержании. Для этого сначала **узнайте количество строк и столбцов в датафрейме.**\n",
    "\n",
    "Шаги выполнения:\n",
    "1. Выведите количество строк и столбцов"
   ]
  },
  {
   "cell_type": "markdown",
   "metadata": {
    "id": "PqNzh9kubV98"
   },
   "source": [
    "<details>\n",
    "<summary>&#9658; Нажмите сюда, чтобы увидеть подсказку</summary>\n",
    "  <p>\n",
    "      \n",
    "Используйте атрибут `shape`, который возвращает кортеж: первый элемент кортежа указывает на количество строк, а второй — на количество столбцов в датафрейме.  \n",
    "\n",
    "Для обращения к атрибуту датафрейма нужно написать переменную, где хранится датафрейм, поставить точку и написать название атрибута (без скобок!). Например:\n",
    "```python\n",
    "df.some_attribute\n",
    "```\n",
    "так мы обратимся к атрибуту `some_attribute` у датафрейма в переменной `df`.\n",
    "</p>\n",
    "</details>"
   ]
  },
  {
   "cell_type": "code",
   "execution_count": 6,
   "metadata": {
    "id": "lDDesuIZbV98"
   },
   "outputs": [
    {
     "data": {
      "text/plain": [
       "(29101, 14)"
      ]
     },
     "execution_count": 6,
     "metadata": {},
     "output_type": "execute_result"
    }
   ],
   "source": [
    "# Ваш код здесь\n",
    "\n",
    "wb.shape"
   ]
  },
  {
   "cell_type": "markdown",
   "metadata": {
    "id": "02R5sO4IbV99"
   },
   "source": [
    "## Шаг 5"
   ]
  },
  {
   "cell_type": "markdown",
   "metadata": {
    "id": "hYWqHmmVbV9-"
   },
   "source": [
    "**Цель этого задания — проверить типы данных в столбцах датафрейма и определить, какой тип данных преобладает.**\n",
    "\n",
    "Шаги выполнения:\n",
    "1. Проверьте типы данных в датафрейме"
   ]
  },
  {
   "cell_type": "markdown",
   "metadata": {
    "id": "TpzkWL6tbV9-"
   },
   "source": [
    "<details>\n",
    "<summary>&#9658; Нажмите сюда, чтобы увидеть подсказку</summary>\n",
    "  <p>\n",
    "Есть два способа узнать типы данных:\n",
    "      \n",
    "1) Используйте атрибут `dtypes`. Он возвращает серию, индексами которой являются названия столбцов, а значениями — тип данных в этих столбцах.  \n",
    "\n",
    "Для обращения к атрибуту датафрейма нужно написать переменную, где хранится датафрейм, поставить точку и написать название атрибута (без скобок!). Например:\n",
    "```python\n",
    "df.some_attribute\n",
    "```\n",
    "так мы обратимся к атрибуту `some_attribute` у датафрейма в переменной `df`.\n",
    "      \n",
    "2) Либо примените к датафрейму метод `info()`, который выводит подробную информацию о датафрейме и его колонках.\n",
    "      \n",
    "Как использовать метод? Например, применим метод `some_method()` к датафрейму `df`:\n",
    "```python\n",
    "df.some_method()\n",
    "```\n",
    "</p>\n",
    "</details>"
   ]
  },
  {
   "cell_type": "code",
   "execution_count": 9,
   "metadata": {
    "id": "rOQRY4HTbV9-"
   },
   "outputs": [
    {
     "name": "stdout",
     "output_type": "stream",
     "text": [
      "<class 'pandas.core.frame.DataFrame'>\n",
      "RangeIndex: 29101 entries, 0 to 29100\n",
      "Data columns (total 14 columns):\n",
      " #   Column        Non-Null Count  Dtype  \n",
      "---  ------        --------------  -----  \n",
      " 0   pickup_dt     29101 non-null  object \n",
      " 1   pickup_month  29101 non-null  object \n",
      " 2   borough       26058 non-null  object \n",
      " 3   pickups       29101 non-null  int64  \n",
      " 4   hday          29101 non-null  object \n",
      " 5   spd           29101 non-null  float64\n",
      " 6   vsb           29101 non-null  float64\n",
      " 7   temp          29101 non-null  float64\n",
      " 8   dewp          29101 non-null  float64\n",
      " 9   slp           29101 non-null  float64\n",
      " 10  pcp 01        29101 non-null  float64\n",
      " 11  pcp 06        29101 non-null  float64\n",
      " 12  pcp 24        29101 non-null  float64\n",
      " 13  sd            29101 non-null  float64\n",
      "dtypes: float64(9), int64(1), object(4)\n",
      "memory usage: 3.1+ MB\n"
     ]
    }
   ],
   "source": [
    "# Ваш код здесь\n",
    "\n",
    "wb.info()"
   ]
  },
  {
   "cell_type": "markdown",
   "metadata": {
    "id": "lCnJVgS-bV9-"
   },
   "source": [
    "2. Определите, какой тип данных преобладает"
   ]
  },
  {
   "cell_type": "markdown",
   "metadata": {
    "id": "1otoJlUKbV9-"
   },
   "source": [
    "<details>\n",
    "<summary>&#9658; Нажмите сюда, чтобы увидеть подсказку</summary>\n",
    "  <p>\n",
    "\n",
    "Код для этого писать не нужно, достаточно посмотреть глазами. Если использовали атрибут `dtypes`, количество каждого типа нужно будет посчитать. А метод `info()` все посчитал сам, смотрите на предпоследнюю строчку, которая начинается с `dtypes:`, количество колонок каждого типа указаны в скобках.\n",
    "      \n",
    "</p>\n",
    "</details>"
   ]
  },
  {
   "cell_type": "markdown",
   "metadata": {
    "id": "DR1pO9YpbV-G"
   },
   "source": [
    "## Шаг 6"
   ]
  },
  {
   "cell_type": "markdown",
   "metadata": {
    "id": "w4lf3weWbV-G"
   },
   "source": [
    "В названиях трех столбцов встречается пробел: это столбцы `pcp 01`, `pcp 06` и `pcp 24`. Замените пробел на знак нижнего подчеркивания, чтобы было удобно обращаться к этим столбцам: через точку, без использования кавычек и скобок. Результат сохраните в тот же датафрейм `taxi`.\n",
    "\n",
    "Шаги выполнения:\n",
    "1. Переименуйте 3 столбца, заменив пробелы на нижние подчеркивания"
   ]
  },
  {
   "cell_type": "markdown",
   "metadata": {
    "id": "OO5lIxHgbV-G"
   },
   "source": [
    "<details>\n",
    "<summary>&#9658; Нажмите сюда, чтобы увидеть подсказку</summary>\n",
    "  <p>\n",
    "      \n",
    "Для переименования колонок передайте в метод `rename()` в параметр `columns` словарь, где ключами являются старые названия колонок, а значениями — новые названия. Например:\n",
    "```python\n",
    "dictionary_name = {'previous_name': 'new_name_1', 'old name': 'new_name_2'} # задаём словарик\n",
    "df = df.rename(columns=dictionary_name)\n",
    "```\n",
    "вернёт вам датафрейм `df`, где колонка `previous_name` будет переименована в колонку `new_name_1`, а `old name` — в `new_name_2`.\n",
    "</p>\n",
    "</details>"
   ]
  },
  {
   "cell_type": "code",
   "execution_count": 4,
   "metadata": {
    "id": "pf8bellFbV-G"
   },
   "outputs": [],
   "source": [
    "# Ваш код здесь\n",
    "\n",
    "taxi = wb.rename(columns={'pcp 01':'pcp_01', 'pcp 06':'pcp_06', 'pcp 24':'pcp_24'})"
   ]
  },
  {
   "cell_type": "markdown",
   "metadata": {
    "id": "BD3BAKaZbV-G"
   },
   "source": [
    "2. Убедитесь, что названия столбцов были успешно изменены и результат сохранен в датафрейм `taxi`, выведя обновлённый список названий столбцов"
   ]
  },
  {
   "cell_type": "markdown",
   "metadata": {
    "id": "6_QjLo-obV-H"
   },
   "source": [
    "<details>\n",
    "<summary>&#9658; Нажмите сюда, чтобы увидеть подсказку</summary>\n",
    "  <p>\n",
    "      \n",
    "Используйте атрибут `columns`. Он возвращает названия колонок датафрейма.  \n",
    "\n",
    "Для обращения к атрибуту датафрейма нужно написать переменную, где хранится датафрейм, поставить точку и написать название атрибута (без скобок!). Например:\n",
    "```python\n",
    "df.some_attribute\n",
    "```\n",
    "Так мы обратимся к атрибуту `some_attribute` у датафрейма в переменной `df`.\n",
    "</p>\n",
    "</details>"
   ]
  },
  {
   "cell_type": "code",
   "execution_count": 5,
   "metadata": {
    "id": "7qvk_oFebV-H"
   },
   "outputs": [
    {
     "data": {
      "text/html": [
       "<div>\n",
       "<style scoped>\n",
       "    .dataframe tbody tr th:only-of-type {\n",
       "        vertical-align: middle;\n",
       "    }\n",
       "\n",
       "    .dataframe tbody tr th {\n",
       "        vertical-align: top;\n",
       "    }\n",
       "\n",
       "    .dataframe thead th {\n",
       "        text-align: right;\n",
       "    }\n",
       "</style>\n",
       "<table border=\"1\" class=\"dataframe\">\n",
       "  <thead>\n",
       "    <tr style=\"text-align: right;\">\n",
       "      <th></th>\n",
       "      <th>pickup_dt</th>\n",
       "      <th>pickup_month</th>\n",
       "      <th>borough</th>\n",
       "      <th>pickups</th>\n",
       "      <th>hday</th>\n",
       "      <th>spd</th>\n",
       "      <th>vsb</th>\n",
       "      <th>temp</th>\n",
       "      <th>dewp</th>\n",
       "      <th>slp</th>\n",
       "      <th>pcp_01</th>\n",
       "      <th>pcp_06</th>\n",
       "      <th>pcp_24</th>\n",
       "      <th>sd</th>\n",
       "    </tr>\n",
       "  </thead>\n",
       "  <tbody>\n",
       "    <tr>\n",
       "      <th>0</th>\n",
       "      <td>2015-01-01 01:00:00</td>\n",
       "      <td>Jan</td>\n",
       "      <td>Bronx</td>\n",
       "      <td>152</td>\n",
       "      <td>Y</td>\n",
       "      <td>5.0</td>\n",
       "      <td>10.0</td>\n",
       "      <td>30.0</td>\n",
       "      <td>7.0</td>\n",
       "      <td>1023.5</td>\n",
       "      <td>0.0</td>\n",
       "      <td>0.0</td>\n",
       "      <td>0.0</td>\n",
       "      <td>0.0</td>\n",
       "    </tr>\n",
       "    <tr>\n",
       "      <th>1</th>\n",
       "      <td>2015-01-01 01:00:00</td>\n",
       "      <td>Jan</td>\n",
       "      <td>Brooklyn</td>\n",
       "      <td>1519</td>\n",
       "      <td>Y</td>\n",
       "      <td>5.0</td>\n",
       "      <td>10.0</td>\n",
       "      <td>30.0</td>\n",
       "      <td>7.0</td>\n",
       "      <td>1023.5</td>\n",
       "      <td>0.0</td>\n",
       "      <td>0.0</td>\n",
       "      <td>0.0</td>\n",
       "      <td>0.0</td>\n",
       "    </tr>\n",
       "    <tr>\n",
       "      <th>2</th>\n",
       "      <td>2015-01-01 01:00:00</td>\n",
       "      <td>Jan</td>\n",
       "      <td>EWR</td>\n",
       "      <td>0</td>\n",
       "      <td>Y</td>\n",
       "      <td>5.0</td>\n",
       "      <td>10.0</td>\n",
       "      <td>30.0</td>\n",
       "      <td>7.0</td>\n",
       "      <td>1023.5</td>\n",
       "      <td>0.0</td>\n",
       "      <td>0.0</td>\n",
       "      <td>0.0</td>\n",
       "      <td>0.0</td>\n",
       "    </tr>\n",
       "    <tr>\n",
       "      <th>3</th>\n",
       "      <td>2015-01-01 01:00:00</td>\n",
       "      <td>Jan</td>\n",
       "      <td>Manhattan</td>\n",
       "      <td>5258</td>\n",
       "      <td>Y</td>\n",
       "      <td>5.0</td>\n",
       "      <td>10.0</td>\n",
       "      <td>30.0</td>\n",
       "      <td>7.0</td>\n",
       "      <td>1023.5</td>\n",
       "      <td>0.0</td>\n",
       "      <td>0.0</td>\n",
       "      <td>0.0</td>\n",
       "      <td>0.0</td>\n",
       "    </tr>\n",
       "    <tr>\n",
       "      <th>4</th>\n",
       "      <td>2015-01-01 01:00:00</td>\n",
       "      <td>Jan</td>\n",
       "      <td>Queens</td>\n",
       "      <td>405</td>\n",
       "      <td>Y</td>\n",
       "      <td>5.0</td>\n",
       "      <td>10.0</td>\n",
       "      <td>30.0</td>\n",
       "      <td>7.0</td>\n",
       "      <td>1023.5</td>\n",
       "      <td>0.0</td>\n",
       "      <td>0.0</td>\n",
       "      <td>0.0</td>\n",
       "      <td>0.0</td>\n",
       "    </tr>\n",
       "  </tbody>\n",
       "</table>\n",
       "</div>"
      ],
      "text/plain": [
       "             pickup_dt pickup_month    borough  pickups hday  spd   vsb  temp  \\\n",
       "0  2015-01-01 01:00:00          Jan      Bronx      152    Y  5.0  10.0  30.0   \n",
       "1  2015-01-01 01:00:00          Jan   Brooklyn     1519    Y  5.0  10.0  30.0   \n",
       "2  2015-01-01 01:00:00          Jan        EWR        0    Y  5.0  10.0  30.0   \n",
       "3  2015-01-01 01:00:00          Jan  Manhattan     5258    Y  5.0  10.0  30.0   \n",
       "4  2015-01-01 01:00:00          Jan     Queens      405    Y  5.0  10.0  30.0   \n",
       "\n",
       "   dewp     slp  pcp_01  pcp_06  pcp_24   sd  \n",
       "0   7.0  1023.5     0.0     0.0     0.0  0.0  \n",
       "1   7.0  1023.5     0.0     0.0     0.0  0.0  \n",
       "2   7.0  1023.5     0.0     0.0     0.0  0.0  \n",
       "3   7.0  1023.5     0.0     0.0     0.0  0.0  \n",
       "4   7.0  1023.5     0.0     0.0     0.0  0.0  "
      ]
     },
     "execution_count": 5,
     "metadata": {},
     "output_type": "execute_result"
    }
   ],
   "source": [
    "# Ваш код здесь\n",
    "\n",
    "taxi.head()"
   ]
  },
  {
   "cell_type": "markdown",
   "metadata": {
    "id": "T_L4OISgbV-H"
   },
   "source": [
    "**В LMS датафрейм с прежними названиями колонок сохранен в переменную `taxi`. Перенесите в LMS код с переименованием столбцов и сохранением результата в тот же датафрейм `taxi`**."
   ]
  },
  {
   "cell_type": "markdown",
   "metadata": {
    "id": "NNeCWp3ObV-I"
   },
   "source": [
    "## Шаг 7"
   ]
  },
  {
   "cell_type": "markdown",
   "metadata": {
    "id": "FoPaE5T5bV-I"
   },
   "source": [
    "Проверьте, все ли районы встречаются в данных одинаково часто. **Используя метод `value_counts()` из библиотеки pandas, определите число записей по каждому району Нью-Йорка. Сколько раз в данных встречается район Манхэттен (Manhattan)?**"
   ]
  },
  {
   "cell_type": "markdown",
   "metadata": {
    "id": "R1oJACIQbV-I"
   },
   "source": [
    "<details>\n",
    "<summary>&#9658; Нажмите сюда, чтобы увидеть подсказку</summary>\n",
    "  <p>\n",
    "\n",
    "Чтобы узнать, как часто встречается каждый из районов в датафрейме, используйте метод `value_counts()`, применив его к столбцу `borough`. Этот метод возвращает серию, где индексы — это уникальные значения из столбца, а значения — это частота их встречаемости.\n",
    "\n",
    "Как использовать метод? Применим метод `some_method()` к колонке `column_name` датафрейма `df`:\n",
    "```python\n",
    "df.column_name.some_method()\n",
    "```\n",
    "\n",
    "</p>\n",
    "</details>"
   ]
  },
  {
   "cell_type": "code",
   "execution_count": 5,
   "metadata": {
    "id": "FDhF7MZLbV-J"
   },
   "outputs": [
    {
     "data": {
      "text/plain": [
       "borough\n",
       "Bronx            4343\n",
       "Brooklyn         4343\n",
       "EWR              4343\n",
       "Manhattan        4343\n",
       "Queens           4343\n",
       "Staten Island    4343\n",
       "Name: count, dtype: int64"
      ]
     },
     "execution_count": 5,
     "metadata": {},
     "output_type": "execute_result"
    }
   ],
   "source": [
    "# Ваш код здесь\n",
    "\n",
    "taxi.borough.value_counts()"
   ]
  },
  {
   "cell_type": "markdown",
   "metadata": {
    "id": "ZzIe5oTLbV-K"
   },
   "source": [
    "## Шаг 8"
   ]
  },
  {
   "cell_type": "markdown",
   "metadata": {
    "id": "Q2wx-OETbV-K"
   },
   "source": [
    "**В этом задании посчитайте общее количество поездок,** чтобы узнать, насколько было востребовано такси в Нью-Йорке за период наблюдений. Для этого суммируйте все значения в столбце `pickups` с помощью метода [sum()](https://pandas.pydata.org/pandas-docs/stable/reference/api/pandas.Series.sum.html)"
   ]
  },
  {
   "cell_type": "markdown",
   "metadata": {
    "id": "2lxgEB3EbV-K"
   },
   "source": [
    "<details>\n",
    "<summary>&#9658; Нажмите сюда, чтобы увидеть подсказку</summary>\n",
    "  <p>\n",
    "\n",
    "Используйте метод `sum()` для столбца `pickups`. Этот метод позволит вам суммировать все значения в указанном столбце.\n",
    "\n",
    "Как использовать метод? Например, применим метод `some_method()` к колонке `column_name` датафрейма `df`:\n",
    "```python\n",
    "df.column_name.some_method()\n",
    "```\n",
    "</p>\n",
    "</details>\n"
   ]
  },
  {
   "cell_type": "code",
   "execution_count": 8,
   "metadata": {
    "id": "SfFvZhq4bV-K"
   },
   "outputs": [
    {
     "data": {
      "text/plain": [
       "np.int64(14265773)"
      ]
     },
     "execution_count": 8,
     "metadata": {},
     "output_type": "execute_result"
    }
   ],
   "source": [
    "# Ваш код здесь\n",
    "\n",
    "taxi.pickups.sum()"
   ]
  },
  {
   "cell_type": "markdown",
   "metadata": {
    "id": "L-SVpfAcbV-L"
   },
   "source": [
    "## Шаг 9"
   ]
  },
  {
   "cell_type": "markdown",
   "metadata": {
    "id": "nT085-F7bV-L"
   },
   "source": [
    "**Используя возможности группировки данных в pandas, определите район Нью-Йорка, из которого было совершено наибольшее количество поездок.** Такая информация может понадобиться, чтобы принять бизнес-решение о том, в каком районе увеличить количество машин такси.\n",
    "\n",
    "Шаги выполнения:\n",
    "1. Сгруппируйте данные по районам и посчитайте количество поездок из каждого района"
   ]
  },
  {
   "cell_type": "markdown",
   "metadata": {
    "id": "i6wpd1u8bV-M"
   },
   "source": [
    "<details>\n",
    "<summary>&#9658; Нажмите сюда, чтобы увидеть подсказку</summary>\n",
    "  <p>\n",
    "\n",
    "**Сгруппируйте данные по столбцу `borough`, используя метод `groupby()`**. Его вызов группирует строки по значениям в какой-то колонке (или комбинации значений из нескольких колонок). Например,\n",
    "```python\n",
    "df.groupby('pickup_month')\n",
    "```\n",
    "сгруппирует данные датафрейма `df` по колонке `pickup_month` — то есть строки с месяцем январь в колонке `pickup_month` будут в отдельной колонке от строк с месяцем май. Сама по себе группировка не вычисляет что-то по группам.\n",
    "\n",
    "**После группировки используйте метод `sum()` для столбца `pickups`**. Этот метод позволит вам суммировать все значения в указанном столбце.\n",
    "\n",
    "**Как использовать метод?** Например, применим метод `some_method()` к колонке `column_name` датафрейма `df`:\n",
    "```python\n",
    "df.column_name.some_method()\n",
    "```\n",
    "\n",
    "**Как использовать метод сразу после группировки?** Например, применим метод `some_method()` к колонке `column_name_2` после группировки по столбцу `column_name_1` датафрейма `df`:\n",
    "```python\n",
    "df.groupby('column_name_1').column_name_2.some_method()\n",
    "```      \n",
    "\n",
    "</p>\n",
    "</details>"
   ]
  },
  {
   "cell_type": "code",
   "execution_count": 6,
   "metadata": {
    "id": "M0V2e1ZtbV-M"
   },
   "outputs": [
    {
     "data": {
      "text/plain": [
       "borough\n",
       "Bronx              220047\n",
       "Brooklyn          2321035\n",
       "EWR                   105\n",
       "Manhattan        10367841\n",
       "Queens            1343528\n",
       "Staten Island        6957\n",
       "Name: pickups, dtype: int64"
      ]
     },
     "execution_count": 6,
     "metadata": {},
     "output_type": "execute_result"
    }
   ],
   "source": [
    "# Ваш код здесь\n",
    "\n",
    "taxi.groupby('borough').pickups.sum()"
   ]
  },
  {
   "cell_type": "markdown",
   "metadata": {
    "id": "viKMMGwybV-M"
   },
   "source": [
    "2. Определите район с наибольшим количеством поездок"
   ]
  },
  {
   "cell_type": "markdown",
   "metadata": {
    "id": "C_urKis8bV-M"
   },
   "source": [
    "<details>\n",
    "<summary>&#9658; Нажмите сюда, чтобы увидеть подсказку</summary>\n",
    "  <p>\n",
    "\n",
    "Используйте метод `sort_values()`. Он сортирует строки по значениям в какой-то колонке. Например,\n",
    "\n",
    "```python\n",
    "df.sort_values('spd', ascending=True)\n",
    "```\n",
    "\n",
    "отсортирует данные датафрейма `df` по значениям в колонке `spd`. Параметр `ascending` отвечает за сортировку по возрастанию (True — по возрастанию, False — по убыванию)    \n",
    "\n",
    "</p>\n",
    "</details>"
   ]
  },
  {
   "cell_type": "code",
   "execution_count": 7,
   "metadata": {
    "id": "R_z54OVMbV-M"
   },
   "outputs": [
    {
     "data": {
      "text/plain": [
       "borough\n",
       "Manhattan        10367841\n",
       "Brooklyn          2321035\n",
       "Queens            1343528\n",
       "Bronx              220047\n",
       "Staten Island        6957\n",
       "EWR                   105\n",
       "Name: pickups, dtype: int64"
      ]
     },
     "execution_count": 7,
     "metadata": {},
     "output_type": "execute_result"
    }
   ],
   "source": [
    "# Ваш код здесь\n",
    "\n",
    "taxi.groupby('borough').pickups.sum().sort_values(ascending=False)"
   ]
  },
  {
   "cell_type": "markdown",
   "metadata": {
    "id": "8D67U9CXbV-N"
   },
   "source": [
    "## Шаг 10"
   ]
  },
  {
   "cell_type": "markdown",
   "metadata": {
    "id": "v8L-qPpjbV-N"
   },
   "source": [
    "⭐️Задание со звёздочкой!⭐️\n",
    "\n",
    "Чтобы ускорить процесс аналитической работы, в этом задании вы изучите применение новых методов: `idxmin()` и `idxmax()` для определения индексов минимального и максимального значения в наборе данных.\n",
    "\n",
    "[idxmin()](https://pandas.pydata.org/pandas-docs/stable/reference/api/pandas.Series.idxmin.html) – возвращает индекс минимального значения (не само значение, а индекс строки, в которой находится это значение)  \n",
    "[idxmax()](https://pandas.pydata.org/pandas-docs/stable/reference/api/pandas.Series.idxmax.html) – возвращает индекс максимального значения\n",
    "\n",
    "Методы применяются к той колонке, по которой он определит максимальное или минимальное значение и вернет его индекс. Пример синтаксиса:\n",
    "\n",
    "```python\n",
    "df.column_name.idxmax()\n",
    "```\n",
    "\n",
    "Эти методы заменяют следующую цепочку действий: применить метод `sort_values()`, взять только первую строку, обратиться к её индексу. Обратите внимание, что оба метода помогут вернуть только одно значение индекса, даже если в данных максимальных или минимальных значений несколько.\n",
    "\n",
    "**Чтобы потренироваться использовать новые методы, сохраните название района с наименьшим числом поездок в переменную `min_pickups`, применив подходящий метод**.\n",
    "\n",
    "Шаги выполнения:\n",
    "1. Как и в прошлом задании, группируйте данные по районам и посчитайте количество поездок из каждого района"
   ]
  },
  {
   "cell_type": "markdown",
   "metadata": {
    "id": "RlDCKK-5bV-O"
   },
   "source": [
    "<details>\n",
    "<summary>&#9658; Нажмите сюда, чтобы увидеть подсказку</summary>\n",
    "  <p>\n",
    "\n",
    "Сгруппируйте данные по столбцу `borough`, используя метод `groupby()`. Его вызов группирует строки по значениям в какой-то колонке (или комбинации значений из нескольких колонок). Например,\n",
    "\n",
    "```python\n",
    "df.groupby('pickup_month')\n",
    "```\n",
    "\n",
    "сгруппирует данные датафрейма `df` по колонке `pickup_month` — то есть строки с месяцем январь в колонке `pickup_month` будут в отдельной колонке от строк с месяцем май. Сама по себе группировка не вычисляет что-то по группам.\n",
    "\n",
    "После группировки используйте метод `sum()` для столбца `pickups`. Этот метод позволит вам суммировать все значения в указанном столбце.\n",
    "\n",
    "\n",
    "Как использовать метод? Например применим метод `some_method()` к колонке `column_name` датафрейма `df`:\n",
    "```python\n",
    "df.column_name.some_method()\n",
    "```\n",
    "\n",
    "Как использовать метод сразу после группировки? Например применим метод `some_method()` к колонке `column_name_2` после группировки по столбцу `column_name_1` датафрейма `df`:\n",
    "```python\n",
    "df.groupby('column_name_1').column_name_2.some_method()\n",
    "```      \n",
    "\n",
    "</p>\n",
    "</details>"
   ]
  },
  {
   "cell_type": "code",
   "execution_count": 8,
   "metadata": {
    "id": "hu4Cphj-bV-O"
   },
   "outputs": [
    {
     "data": {
      "text/plain": [
       "borough\n",
       "Bronx              220047\n",
       "Brooklyn          2321035\n",
       "EWR                   105\n",
       "Manhattan        10367841\n",
       "Queens            1343528\n",
       "Staten Island        6957\n",
       "Name: pickups, dtype: int64"
      ]
     },
     "execution_count": 8,
     "metadata": {},
     "output_type": "execute_result"
    }
   ],
   "source": [
    "# Ваш код здесь\n",
    "\n",
    "taxi.groupby('borough').pickups.sum()\n"
   ]
  },
  {
   "cell_type": "markdown",
   "metadata": {
    "id": "eV5N8PYRbV-O"
   },
   "source": [
    "2. Примените подходящий метод, чтобы получить индекс района с наименьшим числом поездок. Сохраните результат в переменную `min_pickups`"
   ]
  },
  {
   "cell_type": "markdown",
   "metadata": {
    "id": "4z_BAUdubV-O"
   },
   "source": [
    "<details>\n",
    "<summary>&#9658; Нажмите сюда, чтобы увидеть подсказку</summary>\n",
    "  <p>\n",
    "\n",
    "Убедитесь, что вы не использовали параметр `as_index=False` в группировке, чтобы получить нужные индексы.\n",
    "\n",
    "Как использовать метод? Например применим метод `some_method()` к колонке `column_name` датафрейма `df`:\n",
    "```python\n",
    "df.column_name.some_method()\n",
    "```\n",
    "Какой из методов нужен?  \n",
    "`idxmin()` — индекс минимального элемента  \n",
    "`idxmax()` — индекс максимального элемента\n",
    "      \n",
    "Не забудьте сохранить результат в переменную `min_pickups`.\n",
    "</p>\n",
    "</details>"
   ]
  },
  {
   "cell_type": "code",
   "execution_count": 9,
   "metadata": {
    "id": "QRMnR_3wbV-O"
   },
   "outputs": [
    {
     "data": {
      "text/plain": [
       "'EWR'"
      ]
     },
     "execution_count": 9,
     "metadata": {},
     "output_type": "execute_result"
    }
   ],
   "source": [
    "# Ваш код здесь\n",
    "\n",
    "min_pickups = taxi.groupby('borough').pickups.sum().idxmin()\n",
    "min_pickups"
   ]
  },
  {
   "cell_type": "code",
   "execution_count": 10,
   "metadata": {},
   "outputs": [
    {
     "data": {
      "text/plain": [
       "'Manhattan'"
      ]
     },
     "execution_count": 10,
     "metadata": {},
     "output_type": "execute_result"
    }
   ],
   "source": [
    "max_pickups = taxi.groupby('borough').pickups.sum().idxmax()\n",
    "max_pickups"
   ]
  },
  {
   "cell_type": "markdown",
   "metadata": {
    "id": "XzafaCKJbV-P"
   },
   "source": [
    "**На LMS исходные (несгруппированные) данные сохранены в переменную `taxi`. Загрузите в LMS Ваш код, в котором сохраняете название района с наименьшим числом поездок в переменную `min_pickups`**"
   ]
  },
  {
   "cell_type": "markdown",
   "metadata": {
    "id": "MBrqhEAMbV-Q"
   },
   "source": [
    "## Шаг 11"
   ]
  },
  {
   "cell_type": "markdown",
   "metadata": {
    "id": "aYQFjxeMbV-Q"
   },
   "source": [
    "**Теперь ваша задача определить, из каких районов по праздникам и выходным дням в среднем поступает больше заказов, чем в обычные дни.** Такие расчеты помогут компании оптимизировать предложение машин такси и понять, в каких районах в выходные дни нужно дополнительно стимулировать водителей выходить на смену, чтобы машин хватало.\n",
    "\n",
    "Шаги выполнения:\n",
    "1. Сгруппируйте данные по району и типу дня (выходной/будний), рассчитайте среднее количество поездок для каждой группы"
   ]
  },
  {
   "cell_type": "markdown",
   "metadata": {
    "id": "UDiWzd5jbV-Q"
   },
   "source": [
    "<details>\n",
    "<summary>&#9658; Нажмите сюда, чтобы увидеть подсказку</summary>\n",
    "  <p>\n",
    "\n",
    "**Сгруппируйте данные одновременно по двум колонкам — `borough` (район) и `hday` (праздничный день)**, используя метод `groupby()`, и рассчитайте среднее количество поездок (`pickups`) для каждой группы.\n",
    "      \n",
    "**Как сгруппировать по нескольким колонкам?** Передайте в метод `groupby()` не строку-название колонки, а список с названиями колонок. Например:\n",
    "```python\n",
    "df.groupby(['pickup_month', 'pickups'])\n",
    "```\n",
    "сгруппирует по комбинации значений `pickup_month` и `pickups`.\n",
    "\n",
    "**После группировки данных примените метод `mean()` к столбцу `pickups`**, чтобы определить среднее количество поездок для каждой комбинации района и типа дня.\n",
    "\n",
    "**Как использовать метод?** Например применим метод `some_method()` к колонке `column_name` датафрейма `df`:\n",
    "```python\n",
    "df.column_name.some_method()\n",
    "```\n",
    "</p>\n",
    "</details>"
   ]
  },
  {
   "cell_type": "code",
   "execution_count": 11,
   "metadata": {
    "id": "shFOqzfXbV-Q"
   },
   "outputs": [
    {
     "data": {
      "text/plain": [
       "borough        hday\n",
       "Bronx          N         50.771073\n",
       "               Y         48.065868\n",
       "Brooklyn       N        534.727969\n",
       "               Y        527.011976\n",
       "EWR            N          0.023467\n",
       "               Y          0.041916\n",
       "Manhattan      N       2401.302921\n",
       "               Y       2035.928144\n",
       "Queens         N        308.899904\n",
       "               Y        320.730539\n",
       "Staten Island  N          1.606082\n",
       "               Y          1.497006\n",
       "Name: pickups, dtype: float64"
      ]
     },
     "execution_count": 11,
     "metadata": {},
     "output_type": "execute_result"
    }
   ],
   "source": [
    "# Ваш код здесь\n",
    "\n",
    "taxi.groupby(['borough', 'hday']).pickups.mean()"
   ]
  },
  {
   "cell_type": "code",
   "execution_count": 12,
   "metadata": {},
   "outputs": [
    {
     "data": {
      "text/html": [
       "<div>\n",
       "<style scoped>\n",
       "    .dataframe tbody tr th:only-of-type {\n",
       "        vertical-align: middle;\n",
       "    }\n",
       "\n",
       "    .dataframe tbody tr th {\n",
       "        vertical-align: top;\n",
       "    }\n",
       "\n",
       "    .dataframe thead th {\n",
       "        text-align: right;\n",
       "    }\n",
       "</style>\n",
       "<table border=\"1\" class=\"dataframe\">\n",
       "  <thead>\n",
       "    <tr style=\"text-align: right;\">\n",
       "      <th></th>\n",
       "      <th>borough</th>\n",
       "      <th>hday</th>\n",
       "      <th>pickups</th>\n",
       "    </tr>\n",
       "  </thead>\n",
       "  <tbody>\n",
       "    <tr>\n",
       "      <th>0</th>\n",
       "      <td>Bronx</td>\n",
       "      <td>N</td>\n",
       "      <td>50.771073</td>\n",
       "    </tr>\n",
       "    <tr>\n",
       "      <th>1</th>\n",
       "      <td>Bronx</td>\n",
       "      <td>Y</td>\n",
       "      <td>48.065868</td>\n",
       "    </tr>\n",
       "    <tr>\n",
       "      <th>2</th>\n",
       "      <td>Brooklyn</td>\n",
       "      <td>N</td>\n",
       "      <td>534.727969</td>\n",
       "    </tr>\n",
       "    <tr>\n",
       "      <th>3</th>\n",
       "      <td>Brooklyn</td>\n",
       "      <td>Y</td>\n",
       "      <td>527.011976</td>\n",
       "    </tr>\n",
       "    <tr>\n",
       "      <th>4</th>\n",
       "      <td>EWR</td>\n",
       "      <td>N</td>\n",
       "      <td>0.023467</td>\n",
       "    </tr>\n",
       "    <tr>\n",
       "      <th>5</th>\n",
       "      <td>EWR</td>\n",
       "      <td>Y</td>\n",
       "      <td>0.041916</td>\n",
       "    </tr>\n",
       "    <tr>\n",
       "      <th>6</th>\n",
       "      <td>Manhattan</td>\n",
       "      <td>N</td>\n",
       "      <td>2401.302921</td>\n",
       "    </tr>\n",
       "    <tr>\n",
       "      <th>7</th>\n",
       "      <td>Manhattan</td>\n",
       "      <td>Y</td>\n",
       "      <td>2035.928144</td>\n",
       "    </tr>\n",
       "    <tr>\n",
       "      <th>8</th>\n",
       "      <td>Queens</td>\n",
       "      <td>N</td>\n",
       "      <td>308.899904</td>\n",
       "    </tr>\n",
       "    <tr>\n",
       "      <th>9</th>\n",
       "      <td>Queens</td>\n",
       "      <td>Y</td>\n",
       "      <td>320.730539</td>\n",
       "    </tr>\n",
       "    <tr>\n",
       "      <th>10</th>\n",
       "      <td>Staten Island</td>\n",
       "      <td>N</td>\n",
       "      <td>1.606082</td>\n",
       "    </tr>\n",
       "    <tr>\n",
       "      <th>11</th>\n",
       "      <td>Staten Island</td>\n",
       "      <td>Y</td>\n",
       "      <td>1.497006</td>\n",
       "    </tr>\n",
       "  </tbody>\n",
       "</table>\n",
       "</div>"
      ],
      "text/plain": [
       "          borough hday      pickups\n",
       "0           Bronx    N    50.771073\n",
       "1           Bronx    Y    48.065868\n",
       "2        Brooklyn    N   534.727969\n",
       "3        Brooklyn    Y   527.011976\n",
       "4             EWR    N     0.023467\n",
       "5             EWR    Y     0.041916\n",
       "6       Manhattan    N  2401.302921\n",
       "7       Manhattan    Y  2035.928144\n",
       "8          Queens    N   308.899904\n",
       "9          Queens    Y   320.730539\n",
       "10  Staten Island    N     1.606082\n",
       "11  Staten Island    Y     1.497006"
      ]
     },
     "execution_count": 12,
     "metadata": {},
     "output_type": "execute_result"
    }
   ],
   "source": [
    "taxi.groupby(['borough', 'hday'], as_index=False).pickups.mean()"
   ]
  },
  {
   "cell_type": "markdown",
   "metadata": {
    "id": "GxgAblTebV-Q"
   },
   "source": [
    "2. Сравните среднее количества поездок в праздничные и будние дни"
   ]
  },
  {
   "cell_type": "markdown",
   "metadata": {
    "id": "0QxROfZebV-R"
   },
   "source": [
    "<details>\n",
    "<summary>&#9658; Нажмите сюда, чтобы увидеть подсказку</summary>\n",
    "  <p>\n",
    "На этом этапе проще всего это сделать «глазами».\n",
    "\n",
    "Чтобы было удобнее смотреть на результат, задайте параметр `as_index=False` при группировке или используйте метод `to_frame()`, который превращает серию в датафрейм.\n",
    "      \n",
    "Как использовать метод? Например применим метод `some_method()` к пандасовской series:\n",
    "```python\n",
    "series.some_method()\n",
    "```\n",
    "      \n",
    "На что смотреть? Название района, в котором после агрегации значение в колонке `pickups` в строке с `Y` (выходной день) больше, чем в строке с `N` (будний день).\n",
    "</p>\n",
    "</details>"
   ]
  },
  {
   "cell_type": "markdown",
   "metadata": {
    "id": "imae-I5_bV-R"
   },
   "source": [
    "**Выберите районы, из которых по праздникам в среднем поступает больше заказов, чем в обычные дни. Отметьте один или несколько вариантов**."
   ]
  },
  {
   "cell_type": "markdown",
   "metadata": {
    "id": "3E5c6n0MbV-S"
   },
   "source": [
    "## Шаг 12"
   ]
  },
  {
   "cell_type": "markdown",
   "metadata": {
    "id": "IIUsVububV-S"
   },
   "source": [
    "**Ваша цель в этом задании — определить число поездок в каждом районе по месяцам.** Эти расчеты помогут проследить динамику числа поездок, выявить закономерности и сезонность.  \n",
    "\n",
    "**Результаты необходимо отсортировать по убыванию количества поездок и сохранить в новый датафрейм `pickups_by_mon_bor`.**\n",
    "Обратите внимание, что итоговый датафрейм должен состоять из 3-х колонок — `pickup_month`, `borough`, `pickups`.\n",
    "\n",
    "Шаги выполнения:\n",
    "1. Сгруппируйте данные по району и месяцу, посчитайте сумму поездок для каждой группы\n"
   ]
  },
  {
   "cell_type": "markdown",
   "metadata": {
    "id": "CkqPPYArbV-S"
   },
   "source": [
    "<details>\n",
    "<summary>&#9658; Нажмите сюда, чтобы увидеть подсказку</summary>\n",
    "  <p>\n",
    "\n",
    "**Сгруппируйте данные одновременно по двум колонкам — `borough` (район) и `pickup_month` (месяц)**, используя метод `groupby()`, и рассчитайте сумму поездок (`pickups`) для каждой группы.\n",
    "      \n",
    "**Как сгруппировать по нескольким колонкам?** Передайте в метод `groupby()` не строку-название колонки, а список с названиями колонок. Например:\n",
    "```python\n",
    "df.groupby(['pickup_month', 'pickups'])\n",
    "```\n",
    "сгруппирует по комбинации значений `pickup_month` и `pickups`\n",
    "\n",
    "**Чтобы получилась не 1, а 3 колонки**, используйте параметр `as_index` в методе `groupby`. Он определяет, что станет с группировочными колонками. Параметр принимает логическое значение (`True`/`False`) - если `as_index` равно `False`, то группировочные колонки останутся колонками в результате. А если `True` (значение по умолчанию), то группировочные колонки становятся сложным индексом (мультииндексом).\n",
    "      \n",
    "**После группировки данных примените метод `sum()` к столбцу `pickups`**, чтобы определить сумму поездок для каждой комбинации района и месяца.\n",
    "\n",
    "**Как использовать метод?** Например применим метод `some_method()` к колонке `column_name` датафрейма `df`:\n",
    "```python\n",
    "df.column_name.some_method()\n",
    "```\n",
    "</p>\n",
    "</details>"
   ]
  },
  {
   "cell_type": "code",
   "execution_count": 20,
   "metadata": {
    "id": "dHRuYJhAbV-S"
   },
   "outputs": [
    {
     "data": {
      "text/plain": [
       "borough        pickup_month\n",
       "Bronx          Apr               34617\n",
       "               Feb               28694\n",
       "               Jan               22461\n",
       "               Jun               49006\n",
       "               Mar               32232\n",
       "               May               53037\n",
       "Brooklyn       Apr              378095\n",
       "               Feb              328650\n",
       "               Jan              309011\n",
       "               Jun              482466\n",
       "               Mar              346726\n",
       "               May              476087\n",
       "EWR            Apr                  10\n",
       "               Feb                  14\n",
       "               Jan                  11\n",
       "               Jun                  29\n",
       "               Mar                  14\n",
       "               May                  27\n",
       "Manhattan      Apr             1648278\n",
       "               Feb             1718571\n",
       "               Jan             1455543\n",
       "               Jun             1995388\n",
       "               Mar             1661261\n",
       "               May             1888800\n",
       "Queens         Apr              216857\n",
       "               Feb              185695\n",
       "               Jan              159211\n",
       "               Jun              286311\n",
       "               Mar              219561\n",
       "               May              275893\n",
       "Staten Island  Apr                1068\n",
       "               Feb                 903\n",
       "               Jan                 821\n",
       "               Jun                1673\n",
       "               Mar                 975\n",
       "               May                1517\n",
       "Name: pickups, dtype: int64"
      ]
     },
     "execution_count": 20,
     "metadata": {},
     "output_type": "execute_result"
    }
   ],
   "source": [
    "# Ваш код здесь\n",
    "\n",
    "taxi.groupby(['borough', 'pickup_month']).pickups.sum()"
   ]
  },
  {
   "cell_type": "markdown",
   "metadata": {
    "id": "FGYRv6i1bV-T"
   },
   "source": [
    "2. Отсортируйте результаты по убыванию количества поездок, чтобы определить наиболее активные месяцы для каждого района"
   ]
  },
  {
   "cell_type": "markdown",
   "metadata": {
    "id": "g8Z5hlL9bV-T"
   },
   "source": [
    "<details>\n",
    "<summary>&#9658; Нажмите сюда, чтобы увидеть подсказку</summary>\n",
    "  <p>\n",
    "\n",
    "Используйте метод `sort_values()`. Он сортирует строки по значениям в какой-то колонке. Например,\n",
    "\n",
    "```python\n",
    "df.sort_values('spd', ascending=True)\n",
    "```\n",
    "\n",
    "отсортирует данные датафрейма `df` по значениям в колонке `spd`. Параметр `ascending` отвечает за сортировку по возрастанию (True — по возрастанию, False — по убыванию). Метод не меняет сам датафрейм. Если хотите сохранить данные в отсортированном виде, датафрейм нужно перезаписать    \n",
    "\n",
    "</p>\n",
    "</details>"
   ]
  },
  {
   "cell_type": "code",
   "execution_count": 22,
   "metadata": {
    "id": "96qzinoLbV-T"
   },
   "outputs": [
    {
     "data": {
      "text/html": [
       "<div>\n",
       "<style scoped>\n",
       "    .dataframe tbody tr th:only-of-type {\n",
       "        vertical-align: middle;\n",
       "    }\n",
       "\n",
       "    .dataframe tbody tr th {\n",
       "        vertical-align: top;\n",
       "    }\n",
       "\n",
       "    .dataframe thead th {\n",
       "        text-align: right;\n",
       "    }\n",
       "</style>\n",
       "<table border=\"1\" class=\"dataframe\">\n",
       "  <thead>\n",
       "    <tr style=\"text-align: right;\">\n",
       "      <th></th>\n",
       "      <th></th>\n",
       "      <th>pickups</th>\n",
       "    </tr>\n",
       "    <tr>\n",
       "      <th>borough</th>\n",
       "      <th>pickup_month</th>\n",
       "      <th></th>\n",
       "    </tr>\n",
       "  </thead>\n",
       "  <tbody>\n",
       "    <tr>\n",
       "      <th rowspan=\"6\" valign=\"top\">Manhattan</th>\n",
       "      <th>Jun</th>\n",
       "      <td>1995388</td>\n",
       "    </tr>\n",
       "    <tr>\n",
       "      <th>May</th>\n",
       "      <td>1888800</td>\n",
       "    </tr>\n",
       "    <tr>\n",
       "      <th>Feb</th>\n",
       "      <td>1718571</td>\n",
       "    </tr>\n",
       "    <tr>\n",
       "      <th>Mar</th>\n",
       "      <td>1661261</td>\n",
       "    </tr>\n",
       "    <tr>\n",
       "      <th>Apr</th>\n",
       "      <td>1648278</td>\n",
       "    </tr>\n",
       "    <tr>\n",
       "      <th>Jan</th>\n",
       "      <td>1455543</td>\n",
       "    </tr>\n",
       "    <tr>\n",
       "      <th rowspan=\"6\" valign=\"top\">Brooklyn</th>\n",
       "      <th>Jun</th>\n",
       "      <td>482466</td>\n",
       "    </tr>\n",
       "    <tr>\n",
       "      <th>May</th>\n",
       "      <td>476087</td>\n",
       "    </tr>\n",
       "    <tr>\n",
       "      <th>Apr</th>\n",
       "      <td>378095</td>\n",
       "    </tr>\n",
       "    <tr>\n",
       "      <th>Mar</th>\n",
       "      <td>346726</td>\n",
       "    </tr>\n",
       "    <tr>\n",
       "      <th>Feb</th>\n",
       "      <td>328650</td>\n",
       "    </tr>\n",
       "    <tr>\n",
       "      <th>Jan</th>\n",
       "      <td>309011</td>\n",
       "    </tr>\n",
       "    <tr>\n",
       "      <th rowspan=\"6\" valign=\"top\">Queens</th>\n",
       "      <th>Jun</th>\n",
       "      <td>286311</td>\n",
       "    </tr>\n",
       "    <tr>\n",
       "      <th>May</th>\n",
       "      <td>275893</td>\n",
       "    </tr>\n",
       "    <tr>\n",
       "      <th>Mar</th>\n",
       "      <td>219561</td>\n",
       "    </tr>\n",
       "    <tr>\n",
       "      <th>Apr</th>\n",
       "      <td>216857</td>\n",
       "    </tr>\n",
       "    <tr>\n",
       "      <th>Feb</th>\n",
       "      <td>185695</td>\n",
       "    </tr>\n",
       "    <tr>\n",
       "      <th>Jan</th>\n",
       "      <td>159211</td>\n",
       "    </tr>\n",
       "    <tr>\n",
       "      <th rowspan=\"6\" valign=\"top\">Bronx</th>\n",
       "      <th>May</th>\n",
       "      <td>53037</td>\n",
       "    </tr>\n",
       "    <tr>\n",
       "      <th>Jun</th>\n",
       "      <td>49006</td>\n",
       "    </tr>\n",
       "    <tr>\n",
       "      <th>Apr</th>\n",
       "      <td>34617</td>\n",
       "    </tr>\n",
       "    <tr>\n",
       "      <th>Mar</th>\n",
       "      <td>32232</td>\n",
       "    </tr>\n",
       "    <tr>\n",
       "      <th>Feb</th>\n",
       "      <td>28694</td>\n",
       "    </tr>\n",
       "    <tr>\n",
       "      <th>Jan</th>\n",
       "      <td>22461</td>\n",
       "    </tr>\n",
       "    <tr>\n",
       "      <th rowspan=\"6\" valign=\"top\">Staten Island</th>\n",
       "      <th>Jun</th>\n",
       "      <td>1673</td>\n",
       "    </tr>\n",
       "    <tr>\n",
       "      <th>May</th>\n",
       "      <td>1517</td>\n",
       "    </tr>\n",
       "    <tr>\n",
       "      <th>Apr</th>\n",
       "      <td>1068</td>\n",
       "    </tr>\n",
       "    <tr>\n",
       "      <th>Mar</th>\n",
       "      <td>975</td>\n",
       "    </tr>\n",
       "    <tr>\n",
       "      <th>Feb</th>\n",
       "      <td>903</td>\n",
       "    </tr>\n",
       "    <tr>\n",
       "      <th>Jan</th>\n",
       "      <td>821</td>\n",
       "    </tr>\n",
       "    <tr>\n",
       "      <th rowspan=\"6\" valign=\"top\">EWR</th>\n",
       "      <th>Jun</th>\n",
       "      <td>29</td>\n",
       "    </tr>\n",
       "    <tr>\n",
       "      <th>May</th>\n",
       "      <td>27</td>\n",
       "    </tr>\n",
       "    <tr>\n",
       "      <th>Mar</th>\n",
       "      <td>14</td>\n",
       "    </tr>\n",
       "    <tr>\n",
       "      <th>Feb</th>\n",
       "      <td>14</td>\n",
       "    </tr>\n",
       "    <tr>\n",
       "      <th>Jan</th>\n",
       "      <td>11</td>\n",
       "    </tr>\n",
       "    <tr>\n",
       "      <th>Apr</th>\n",
       "      <td>10</td>\n",
       "    </tr>\n",
       "  </tbody>\n",
       "</table>\n",
       "</div>"
      ],
      "text/plain": [
       "                            pickups\n",
       "borough       pickup_month         \n",
       "Manhattan     Jun           1995388\n",
       "              May           1888800\n",
       "              Feb           1718571\n",
       "              Mar           1661261\n",
       "              Apr           1648278\n",
       "              Jan           1455543\n",
       "Brooklyn      Jun            482466\n",
       "              May            476087\n",
       "              Apr            378095\n",
       "              Mar            346726\n",
       "              Feb            328650\n",
       "              Jan            309011\n",
       "Queens        Jun            286311\n",
       "              May            275893\n",
       "              Mar            219561\n",
       "              Apr            216857\n",
       "              Feb            185695\n",
       "              Jan            159211\n",
       "Bronx         May             53037\n",
       "              Jun             49006\n",
       "              Apr             34617\n",
       "              Mar             32232\n",
       "              Feb             28694\n",
       "              Jan             22461\n",
       "Staten Island Jun              1673\n",
       "              May              1517\n",
       "              Apr              1068\n",
       "              Mar               975\n",
       "              Feb               903\n",
       "              Jan               821\n",
       "EWR           Jun                29\n",
       "              May                27\n",
       "              Mar                14\n",
       "              Feb                14\n",
       "              Jan                11\n",
       "              Apr                10"
      ]
     },
     "execution_count": 22,
     "metadata": {},
     "output_type": "execute_result"
    }
   ],
   "source": [
    "# Ваш код здесь\n",
    "\n",
    "taxi.groupby(['borough', 'pickup_month']) \\\n",
    "    .pickups \\\n",
    "    .sum() \\\n",
    "    .sort_values(ascending=False) \\\n",
    "    .to_frame()"
   ]
  },
  {
   "cell_type": "markdown",
   "metadata": {
    "id": "E5WhckaNbV-T"
   },
   "source": [
    "3. Сохраните результат в новый датафрейм `pickups_by_mon_bor`. Проверьте, что он состоит из 3-х колонок - `pickup_month`, `borough`, `pickups`"
   ]
  },
  {
   "cell_type": "markdown",
   "metadata": {
    "id": "xJnYjy-_bV-T"
   },
   "source": [
    "<details>\n",
    "<summary>&#9658; Нажмите сюда, чтобы увидеть подсказку</summary>\n",
    "  <p>\n",
    "\n",
    "Как сохранить результат в новый датафрейм? Например, сохраним результат применения метода `some_method()` к колонке `column_name` датафрейма `df` в новый датафрейм `new_df`:\n",
    "```python\n",
    "new_df = df.column_name.some_method()\n",
    "```\n",
    "\n",
    "**Как проверить, что датафрейм состоит из 3 колонок - `pickup_month`, `borough`, `pickups`?** Используйте атрибут `columns`, который возвращает все названия колонок в датафрейме.\n",
    "      \n",
    "Для обращения к атрибуту датафрейма нужно написать переменную, где хранится датафрейм, поставить точку и написать название атрибута (без скобок!). Например:\n",
    "```python\n",
    "df.some_attribute\n",
    "```\n",
    "так мы обратимся к атрибуту `some_attribute` у датафрейма в переменной `df`.     \n",
    "</p>\n",
    "</details>"
   ]
  },
  {
   "cell_type": "code",
   "execution_count": 24,
   "metadata": {
    "id": "52z31MTtbV-U"
   },
   "outputs": [
    {
     "data": {
      "text/html": [
       "<div>\n",
       "<style scoped>\n",
       "    .dataframe tbody tr th:only-of-type {\n",
       "        vertical-align: middle;\n",
       "    }\n",
       "\n",
       "    .dataframe tbody tr th {\n",
       "        vertical-align: top;\n",
       "    }\n",
       "\n",
       "    .dataframe thead th {\n",
       "        text-align: right;\n",
       "    }\n",
       "</style>\n",
       "<table border=\"1\" class=\"dataframe\">\n",
       "  <thead>\n",
       "    <tr style=\"text-align: right;\">\n",
       "      <th></th>\n",
       "      <th></th>\n",
       "      <th>pickups</th>\n",
       "    </tr>\n",
       "    <tr>\n",
       "      <th>borough</th>\n",
       "      <th>pickup_month</th>\n",
       "      <th></th>\n",
       "    </tr>\n",
       "  </thead>\n",
       "  <tbody>\n",
       "    <tr>\n",
       "      <th rowspan=\"6\" valign=\"top\">Manhattan</th>\n",
       "      <th>Jun</th>\n",
       "      <td>1995388</td>\n",
       "    </tr>\n",
       "    <tr>\n",
       "      <th>May</th>\n",
       "      <td>1888800</td>\n",
       "    </tr>\n",
       "    <tr>\n",
       "      <th>Feb</th>\n",
       "      <td>1718571</td>\n",
       "    </tr>\n",
       "    <tr>\n",
       "      <th>Mar</th>\n",
       "      <td>1661261</td>\n",
       "    </tr>\n",
       "    <tr>\n",
       "      <th>Apr</th>\n",
       "      <td>1648278</td>\n",
       "    </tr>\n",
       "    <tr>\n",
       "      <th>Jan</th>\n",
       "      <td>1455543</td>\n",
       "    </tr>\n",
       "    <tr>\n",
       "      <th rowspan=\"6\" valign=\"top\">Brooklyn</th>\n",
       "      <th>Jun</th>\n",
       "      <td>482466</td>\n",
       "    </tr>\n",
       "    <tr>\n",
       "      <th>May</th>\n",
       "      <td>476087</td>\n",
       "    </tr>\n",
       "    <tr>\n",
       "      <th>Apr</th>\n",
       "      <td>378095</td>\n",
       "    </tr>\n",
       "    <tr>\n",
       "      <th>Mar</th>\n",
       "      <td>346726</td>\n",
       "    </tr>\n",
       "    <tr>\n",
       "      <th>Feb</th>\n",
       "      <td>328650</td>\n",
       "    </tr>\n",
       "    <tr>\n",
       "      <th>Jan</th>\n",
       "      <td>309011</td>\n",
       "    </tr>\n",
       "    <tr>\n",
       "      <th rowspan=\"6\" valign=\"top\">Queens</th>\n",
       "      <th>Jun</th>\n",
       "      <td>286311</td>\n",
       "    </tr>\n",
       "    <tr>\n",
       "      <th>May</th>\n",
       "      <td>275893</td>\n",
       "    </tr>\n",
       "    <tr>\n",
       "      <th>Mar</th>\n",
       "      <td>219561</td>\n",
       "    </tr>\n",
       "    <tr>\n",
       "      <th>Apr</th>\n",
       "      <td>216857</td>\n",
       "    </tr>\n",
       "    <tr>\n",
       "      <th>Feb</th>\n",
       "      <td>185695</td>\n",
       "    </tr>\n",
       "    <tr>\n",
       "      <th>Jan</th>\n",
       "      <td>159211</td>\n",
       "    </tr>\n",
       "    <tr>\n",
       "      <th rowspan=\"6\" valign=\"top\">Bronx</th>\n",
       "      <th>May</th>\n",
       "      <td>53037</td>\n",
       "    </tr>\n",
       "    <tr>\n",
       "      <th>Jun</th>\n",
       "      <td>49006</td>\n",
       "    </tr>\n",
       "    <tr>\n",
       "      <th>Apr</th>\n",
       "      <td>34617</td>\n",
       "    </tr>\n",
       "    <tr>\n",
       "      <th>Mar</th>\n",
       "      <td>32232</td>\n",
       "    </tr>\n",
       "    <tr>\n",
       "      <th>Feb</th>\n",
       "      <td>28694</td>\n",
       "    </tr>\n",
       "    <tr>\n",
       "      <th>Jan</th>\n",
       "      <td>22461</td>\n",
       "    </tr>\n",
       "    <tr>\n",
       "      <th rowspan=\"6\" valign=\"top\">Staten Island</th>\n",
       "      <th>Jun</th>\n",
       "      <td>1673</td>\n",
       "    </tr>\n",
       "    <tr>\n",
       "      <th>May</th>\n",
       "      <td>1517</td>\n",
       "    </tr>\n",
       "    <tr>\n",
       "      <th>Apr</th>\n",
       "      <td>1068</td>\n",
       "    </tr>\n",
       "    <tr>\n",
       "      <th>Mar</th>\n",
       "      <td>975</td>\n",
       "    </tr>\n",
       "    <tr>\n",
       "      <th>Feb</th>\n",
       "      <td>903</td>\n",
       "    </tr>\n",
       "    <tr>\n",
       "      <th>Jan</th>\n",
       "      <td>821</td>\n",
       "    </tr>\n",
       "    <tr>\n",
       "      <th rowspan=\"6\" valign=\"top\">EWR</th>\n",
       "      <th>Jun</th>\n",
       "      <td>29</td>\n",
       "    </tr>\n",
       "    <tr>\n",
       "      <th>May</th>\n",
       "      <td>27</td>\n",
       "    </tr>\n",
       "    <tr>\n",
       "      <th>Mar</th>\n",
       "      <td>14</td>\n",
       "    </tr>\n",
       "    <tr>\n",
       "      <th>Feb</th>\n",
       "      <td>14</td>\n",
       "    </tr>\n",
       "    <tr>\n",
       "      <th>Jan</th>\n",
       "      <td>11</td>\n",
       "    </tr>\n",
       "    <tr>\n",
       "      <th>Apr</th>\n",
       "      <td>10</td>\n",
       "    </tr>\n",
       "  </tbody>\n",
       "</table>\n",
       "</div>"
      ],
      "text/plain": [
       "                            pickups\n",
       "borough       pickup_month         \n",
       "Manhattan     Jun           1995388\n",
       "              May           1888800\n",
       "              Feb           1718571\n",
       "              Mar           1661261\n",
       "              Apr           1648278\n",
       "              Jan           1455543\n",
       "Brooklyn      Jun            482466\n",
       "              May            476087\n",
       "              Apr            378095\n",
       "              Mar            346726\n",
       "              Feb            328650\n",
       "              Jan            309011\n",
       "Queens        Jun            286311\n",
       "              May            275893\n",
       "              Mar            219561\n",
       "              Apr            216857\n",
       "              Feb            185695\n",
       "              Jan            159211\n",
       "Bronx         May             53037\n",
       "              Jun             49006\n",
       "              Apr             34617\n",
       "              Mar             32232\n",
       "              Feb             28694\n",
       "              Jan             22461\n",
       "Staten Island Jun              1673\n",
       "              May              1517\n",
       "              Apr              1068\n",
       "              Mar               975\n",
       "              Feb               903\n",
       "              Jan               821\n",
       "EWR           Jun                29\n",
       "              May                27\n",
       "              Mar                14\n",
       "              Feb                14\n",
       "              Jan                11\n",
       "              Apr                10"
      ]
     },
     "execution_count": 24,
     "metadata": {},
     "output_type": "execute_result"
    }
   ],
   "source": [
    "# Ваш код здесь\n",
    "\n",
    "pickups_by_mon_bor = taxi.groupby(['borough', 'pickup_month']) \\\n",
    "    .pickups \\\n",
    "    .sum() \\\n",
    "    .sort_values(ascending=False) \\\n",
    "    .to_frame()\n",
    "\n",
    "pickups_by_mon_bor"
   ]
  },
  {
   "cell_type": "markdown",
   "metadata": {
    "id": "xTspa27ybV-U"
   },
   "source": [
    "**На LMS данные сохранены в переменную `taxi`. Загрузите в LMS Ваш код, в котором в новый датафрейм `pickups_by_mon_bor` сохраняете число поездок в каждом районе по месяцам, с сортировкой по убыванию количества поездок**."
   ]
  },
  {
   "cell_type": "markdown",
   "metadata": {
    "id": "WbnfXXHUbV-V"
   },
   "source": [
    "## Итоги"
   ]
  },
  {
   "cell_type": "markdown",
   "metadata": {
    "id": "re17J6hLbV-V"
   },
   "source": [
    "В первом проекте вы проанализировали данные о поездках на такси в Нью-Йорке, получили инсайты для бизнес-решений и потренировали следующие навыки работы с библиотекой pandas:\n",
    "\n",
    "- Чтение данных в формате csv\n",
    "- Определение размера датафрейма и типов данных в его столбцах\n",
    "- Переименование колонок\n",
    "- Группировка и агрегация данных\n",
    "- Сортировка данных\n",
    "- Получение индексов с минимальными и максимальными значениями\n",
    "- Группировка по нескольким колонкам\n",
    "- Сохранение результата в новый датафрейм"
   ]
  }
 ],
 "metadata": {
  "colab": {
   "provenance": []
  },
  "kernelspec": {
   "display_name": "Python 3 (ipykernel)",
   "language": "python",
   "name": "python3"
  },
  "language_info": {
   "codemirror_mode": {
    "name": "ipython",
    "version": 3
   },
   "file_extension": ".py",
   "mimetype": "text/x-python",
   "name": "python",
   "nbconvert_exporter": "python",
   "pygments_lexer": "ipython3",
   "version": "3.13.4"
  }
 },
 "nbformat": 4,
 "nbformat_minor": 4
}
