{
 "cells": [
  {
   "cell_type": "markdown",
   "metadata": {
    "id": "0A5e9MbQb1GC"
   },
   "source": [
    "# Проект урока 3. Продвинутые расчеты и визуализация\n",
    "#  «Аналитика клиентов и логов gamedev-стартапа»"
   ]
  },
  {
   "cell_type": "markdown",
   "metadata": {
    "id": "nv728n8Tb1GJ"
   },
   "source": [
    "## Шаг 1"
   ]
  },
  {
   "cell_type": "markdown",
   "metadata": {
    "id": "JS8rdpsmb1GK"
   },
   "source": [
    "В этом проекте вы будете работать в роли аналитика gamedev-стартапа, который вывел на рынок простую игру: в приложении пользователь пытается угадать ответы на предлагаемые вопросы. Набор данных состоит из двух датасетов: user_data и logs.\n",
    "\n",
    "**Описание данных:**\n",
    "\n",
    "user_data:\n",
    "\n",
    "- client – идентификатор пользователя  \n",
    "- premium – есть ли у клиента премиум статус  \n",
    "- age – возраст  \n",
    "\n",
    "logs:\n",
    "\n",
    "- client – идентификатор пользователя  \n",
    "- success – результат ответа (операции): успех - 1, нет - 0  \n",
    "- platform – платформа  \n",
    "- time – время в формате Unix"
   ]
  },
  {
   "cell_type": "markdown",
   "metadata": {
    "id": "zIHQtMUEb1GL"
   },
   "source": [
    "Вы можете решать задания тем способом, который считаете наиболее удобным или оптимальным. А для того, чтобы лучше понять задание, следуйте по шагам выполнения. Бывает, что их можно выполнить в одну строчку, применяя методы друг за другом. А если выполняете шаги отдельно, не забудьте сохранить результат в переменную и в следующем шаге работать именно с ней.\n",
    "\n",
    "В ноутбуке место для вашего решения обозначено комментарием `# Ваш код здесь`, но вы можете писать код где вам удобно, добавлять или удалять ячейки с кодом или текстом по вашему усмотрению.\n",
    "\n",
    "Кроме того можно посмотреть подсказки, кликнув на строчку `► Нажмите сюда, чтобы увидеть подсказку`. Также не забывайте о наличии конспектов и возможности задать вопрос в Discord, ссылка на нужный тред есть на странице каждого шага в LMS"
   ]
  },
  {
   "cell_type": "markdown",
   "metadata": {
    "id": "MfJHrjphb1GM"
   },
   "source": [
    "## Шаг 2"
   ]
  },
  {
   "cell_type": "markdown",
   "metadata": {
    "id": "UQfNzEIpb1GM"
   },
   "source": [
    "Начните с того, что загрузите данные и исследуйте основную информацию о них. **Проверьте, сколько пустых значений в датафрейме `user_data`.**"
   ]
  },
  {
   "cell_type": "markdown",
   "metadata": {
    "id": "Qc_zBA3Lb1GN"
   },
   "source": [
    "Шаги выполнения:\n",
    "\n",
    "1. Импортируйте библиотеку pandas"
   ]
  },
  {
   "cell_type": "markdown",
   "metadata": {
    "id": "3W6vvaDUb1GO"
   },
   "source": [
    "<details>\n",
    "<summary>&#9658; Нажмите сюда, чтобы увидеть подсказку</summary>\n",
    "  <p>Для импорта библиотеки напишите\n",
    "\n",
    "```python\n",
    "import library as shortcut\n",
    "```\n",
    "\n",
    "где вместо `library` подставьте название библиотеки (pandas), а вместо `shortcut` — его общераспространённое сокращённое название (pd)</p>\n",
    "</details>"
   ]
  },
  {
   "cell_type": "code",
   "execution_count": 36,
   "metadata": {
    "id": "7KmtQEBvb1GP"
   },
   "outputs": [],
   "source": [
    "# Ваш код здесь\n",
    "\n",
    "import pandas as pd"
   ]
  },
  {
   "cell_type": "markdown",
   "metadata": {
    "id": "S-fE6gRhb1Gg"
   },
   "source": [
    "2. Загрузите два csv файла к уроку в свою папку в JupyterНub\n",
    "3. Прочитайте эти датасеты, результаты сохранив в соответствующие переменные `user_data` и `logs`"
   ]
  },
  {
   "cell_type": "markdown",
   "metadata": {
    "id": "6x8QkbjBb1Gh"
   },
   "source": [
    "<details>\n",
    "<summary>&#9658; Нажмите сюда, чтобы увидеть подсказку</summary>\n",
    "  <p>\n",
    "      \n",
    "Датасеты находятся в файлах формата CSV. Для их чтения воспользуйтесь функцией `pd.read_csv()`, передав в качестве аргумента путь к файлу. Например,\n",
    "```python\n",
    "df = pd.read_csv('data.csv')\n",
    "```\n",
    "cчитает файл `data.csv`, хранящийся в той же папке, что и юпитер ноутбук, в котором вы сейчас работаете.\n",
    "</p>\n",
    "</details>"
   ]
  },
  {
   "cell_type": "code",
   "execution_count": 37,
   "metadata": {
    "id": "jiCOhqQbb1Gh"
   },
   "outputs": [],
   "source": [
    "# Ваш код здесь\n",
    "\n",
    "user_data = pd.read_csv('3_user_data.csv')\n",
    "logs = pd.read_csv('3_logs.csv')"
   ]
  },
  {
   "cell_type": "markdown",
   "metadata": {
    "id": "TGr1YhLAb1Gh"
   },
   "source": [
    "4. Узнайте основную информацию о данных: посмотрите на содержимое датафреймов, проверьте размер каждой загруженной таблицы, ознакомьтесь с типами данных, взгляните на описательную статистику по колонкам"
   ]
  },
  {
   "cell_type": "markdown",
   "metadata": {
    "id": "3gGbkyawb1Gh"
   },
   "source": [
    "<details>\n",
    "<summary>&#9658; Нажмите сюда, чтобы увидеть подсказку</summary>\n",
    "  <p>\n",
    "      \n",
    "**Как посмотреть на содержимое датафреймов?** Используйте метод `head()`\n",
    "\n",
    "**Как проверить размер датафрейма?** Используйте атрибут `shape`, чтобы узнать количество строк и столбцов. Этот атрибут возвращает кортеж, первый элемент которого указывает на количество строк, а второй — на количество столбцов в датафрейме.  \n",
    "\n",
    "**Как узнать типы данных?** Есть два способа :\n",
    "      \n",
    "1) Используйте атрибут `dtypes`. Он возвращает серию, индексами которой являются названия столбцов, а значениями — тип данных в этих столбцах.  \n",
    "      \n",
    "2) Либо примените к датафрейму метод `info()`, который выводит подробную информацию о датафрейме и его колонках.    \n",
    "\n",
    "**Как получить описательную статистику по столбцам?** Используйте метод `describe()`, который возвращает описательную статистику числовых переменных (среднее, минимум, максимум и так далее).\n",
    "      \n",
    "**Как обратиться к атрибуту датафрейма?** Для этого нужно написать переменную, где хранится датафрейм, поставить точку и написать название атрибута (без скобок!). Например:\n",
    "```python\n",
    "df.some_attribute\n",
    "```\n",
    "так мы обратимся к атрибуту `some_attribute` у датафрейма в переменной `df`\n",
    "      \n",
    "**Как использовать метод?** Например применим метод `some_method()` к датафрейму `df`:\n",
    "```python\n",
    "df.some_method()\n",
    "```\n",
    "</p>\n",
    "</details>"
   ]
  },
  {
   "cell_type": "code",
   "execution_count": 3,
   "metadata": {
    "id": "FlTL9hlNb1Gi"
   },
   "outputs": [
    {
     "name": "stdout",
     "output_type": "stream",
     "text": [
      "<class 'pandas.core.frame.DataFrame'>\n",
      "RangeIndex: 2954 entries, 0 to 2953\n",
      "Data columns (total 3 columns):\n",
      " #   Column   Non-Null Count  Dtype\n",
      "---  ------   --------------  -----\n",
      " 0   client   2954 non-null   int64\n",
      " 1   premium  2954 non-null   bool \n",
      " 2   age      2954 non-null   int64\n",
      "dtypes: bool(1), int64(2)\n",
      "memory usage: 49.2 KB\n"
     ]
    }
   ],
   "source": [
    "# Ваш код здесь\n",
    "\n",
    "user_data.info()"
   ]
  },
  {
   "cell_type": "code",
   "execution_count": 4,
   "metadata": {},
   "outputs": [
    {
     "name": "stdout",
     "output_type": "stream",
     "text": [
      "<class 'pandas.core.frame.DataFrame'>\n",
      "RangeIndex: 4500 entries, 0 to 4499\n",
      "Data columns (total 4 columns):\n",
      " #   Column    Non-Null Count  Dtype \n",
      "---  ------    --------------  ----- \n",
      " 0   client    4500 non-null   int64 \n",
      " 1   success   4500 non-null   bool  \n",
      " 2   platform  4500 non-null   object\n",
      " 3   time      4500 non-null   int64 \n",
      "dtypes: bool(1), int64(2), object(1)\n",
      "memory usage: 110.0+ KB\n"
     ]
    }
   ],
   "source": [
    "logs.info()"
   ]
  },
  {
   "cell_type": "markdown",
   "metadata": {
    "id": "oUKzpJ5Tb1Gi"
   },
   "source": [
    "5. Определите, сколько пустых значений в датафрейме `user_data`"
   ]
  },
  {
   "cell_type": "markdown",
   "metadata": {
    "id": "lOqjFaSFb1Gi"
   },
   "source": [
    "<details>\n",
    "<summary>&#9658; Нажмите сюда, чтобы увидеть подсказку</summary>\n",
    "  <p>\n",
    "      \n",
    "Используйте метод `info()`, чтобы узнать, есть ли пустые значения в колонках и сколько их.\n",
    "      \n",
    "**Как использовать метод?** Например применим метод `some_method()` к датафрейму `df`:\n",
    "```python\n",
    "df.some_method()\n",
    "```\n",
    "      \n",
    "Посмотрите на значение в столбце `Non-Null Count` - он говорит о том, сколько **не пустых** значений есть в каждой колонке. Если это число совпадает с количеством строк всего датафрейма - пустых значений нет. А если строк во всем датафрейме больше, чем это число - то пустые значения в этой колонке есть и количество их равно разнице между числом строк всего датафрейма и числом не пустых строк в этой колонке\n",
    "</p>\n",
    "</details>"
   ]
  },
  {
   "cell_type": "code",
   "execution_count": 5,
   "metadata": {
    "id": "ruf41kM3b1Gk"
   },
   "outputs": [
    {
     "name": "stdout",
     "output_type": "stream",
     "text": [
      "<class 'pandas.core.frame.DataFrame'>\n",
      "RangeIndex: 2954 entries, 0 to 2953\n",
      "Data columns (total 3 columns):\n",
      " #   Column   Non-Null Count  Dtype\n",
      "---  ------   --------------  -----\n",
      " 0   client   2954 non-null   int64\n",
      " 1   premium  2954 non-null   bool \n",
      " 2   age      2954 non-null   int64\n",
      "dtypes: bool(1), int64(2)\n",
      "memory usage: 49.2 KB\n"
     ]
    }
   ],
   "source": [
    "# Ваш код здесь\n",
    "\n",
    "user_data.info() # нет пустых значений"
   ]
  },
  {
   "cell_type": "markdown",
   "metadata": {
    "id": "6Uoct5Jlb1Gr"
   },
   "source": [
    "## Шаг 3"
   ]
  },
  {
   "cell_type": "markdown",
   "metadata": {
    "id": "QkZR6KsJb1Gr"
   },
   "source": [
    "Ваш стартап планирует выбрать амбассадоров продукта, чтобы через них продвигать игру. Для этого менеджер хочет встретиться с наиболее активными клиентами, которые дают больше других верных ответов. А ваша задача — выявить таких клиентов.\n",
    "\n",
    "**Определите, какой клиент или клиенты дали наибольшее количество успешных ответов. Перечислите их идентификаторы (см.колонку `client`) через запятую и пробел в порядке возрастания**. Например:\n",
    "\n",
    "`12, 123, 456`"
   ]
  },
  {
   "cell_type": "markdown",
   "metadata": {
    "id": "C6eafRDJb1Gs"
   },
   "source": [
    "Шаги выполнения:\n",
    "1. Отберите из данных только те ответы, которые были успешными. Это значит, что вам надо найти все строки, где значение в столбце `success` датафрейма `logs` равно `True`"
   ]
  },
  {
   "cell_type": "markdown",
   "metadata": {
    "id": "O-z8UWaab1Gs"
   },
   "source": [
    "<details>\n",
    "<summary>&#9658; Нажмите сюда, чтобы увидеть подсказку</summary>\n",
    "  <p>\n",
    "\n",
    "Чтобы отобрать только нужные записи, есть два способа:\n",
    "\n",
    "1) Используйте аксессор `loc[]`, внутри которого напишите условие, что значение в столбце `success` датафрейма `logs` равно `True`.\n",
    "\n",
    "Как использовать аксессор? Например, код\n",
    "```python\n",
    "df.loc[df[\"col_1\"] > 35]\n",
    "```\n",
    "вернет только те строки датафрейма `df`, где значения в колонке `col_1` больше 35.\n",
    "\n",
    "2) Используйте метод `query()`, внутри которого напишите строку с условием, что значение в столбце `success` датафрейма `logs` равно `True`. Учтите, что условие нужно писать в кавычках, а название колонки — без кавычек.\n",
    "\n",
    "Как использовать метод? Например применим метод `some_method()` к датафрейму `df`:\n",
    "```python\n",
    "df.some_method()\n",
    "```\n",
    "      \n",
    "Помните, что один знак равно означает присвоение, а два — проверку на равенство.\n",
    "      \n",
    "</p>\n",
    "</details>"
   ]
  },
  {
   "cell_type": "code",
   "execution_count": 38,
   "metadata": {
    "id": "vPb1kFI5b1Gs"
   },
   "outputs": [],
   "source": [
    "# Ваш код здесь\n",
    "\n",
    "logs_success = logs.query('success == True')"
   ]
  },
  {
   "cell_type": "markdown",
   "metadata": {
    "id": "9o2Qtchtb1Gs"
   },
   "source": [
    "2. Подсчитайте количество успешных ответов для каждого клиента"
   ]
  },
  {
   "cell_type": "markdown",
   "metadata": {
    "id": "GoFakKLGb1Gs"
   },
   "source": [
    "<details>\n",
    "<summary>&#9658; Нажмите сюда, чтобы увидеть подсказку</summary>\n",
    "  <p>\n",
    "\n",
    "Используйте метод `value_counts()`, применив его к столбцу `client` на отобранных данных (где остались только успешные ответы). Этот метод возвращает серию, где индексы — это уникальные значения из столбца, а значения — это частота их встречаемости.\n",
    "\n",
    "Как использовать метод? Например применим метод `some_method()` к колонке `column_name` датафрейма `df`:\n",
    "```python\n",
    "df.column_name.some_method()\n",
    "```\n",
    "\n",
    "</p>\n",
    "</details>"
   ]
  },
  {
   "cell_type": "code",
   "execution_count": 4,
   "metadata": {
    "id": "IjoYLqN5b1Gs"
   },
   "outputs": [],
   "source": [
    "# Ваш код здесь\n",
    "\n",
    "logs_success_client = logs.query('success == True') \\\n",
    "    .client.value_counts()"
   ]
  },
  {
   "cell_type": "code",
   "execution_count": 8,
   "metadata": {},
   "outputs": [
    {
     "data": {
      "text/plain": [
       "client\n",
       "61473    41\n",
       "78349    41\n",
       "36165    41\n",
       "61468    41\n",
       "92584    41\n",
       "         ..\n",
       "50300     1\n",
       "51575     1\n",
       "3553      1\n",
       "502       1\n",
       "11983     1\n",
       "Name: count, Length: 2845, dtype: int64"
      ]
     },
     "execution_count": 8,
     "metadata": {},
     "output_type": "execute_result"
    }
   ],
   "source": [
    "logs_success_client"
   ]
  },
  {
   "cell_type": "markdown",
   "metadata": {
    "id": "tTwVVuRWb1G5"
   },
   "source": [
    "3. Определите максимальное число успешных ответов в этих данных"
   ]
  },
  {
   "cell_type": "markdown",
   "metadata": {
    "id": "yKIFqHOSb1G5"
   },
   "source": [
    "<details>\n",
    "<summary>&#9658; Нажмите сюда, чтобы увидеть подсказку</summary>\n",
    "  <p>\n",
    "\n",
    "Используйте метод `max()`, применив его к результату прошлого шага, где в значениях - число успешных ответов у каждого клиента, а в индексе - идентификаторы клиентов. Этот метод возвращает максимальное значение. Не путайте его с уже знакомым вам методом `idxmax()`, который возвращает индекс максимального значения (только один), а не само значение.\n",
    "\n",
    "Как использовать метод? Например применим метод `some_method()` к датафрейму `df`:\n",
    "```python\n",
    "df.some_method()\n",
    "```\n",
    "</p>\n",
    "</details>"
   ]
  },
  {
   "cell_type": "code",
   "execution_count": 5,
   "metadata": {
    "id": "khPdXNTcb1G5"
   },
   "outputs": [
    {
     "data": {
      "text/plain": [
       "np.int64(41)"
      ]
     },
     "execution_count": 5,
     "metadata": {},
     "output_type": "execute_result"
    }
   ],
   "source": [
    "# Ваш код здесь\n",
    "\n",
    "logs.query('success == True') \\\n",
    "    .client.value_counts() \\\n",
    "    .max()"
   ]
  },
  {
   "cell_type": "markdown",
   "metadata": {
    "id": "yp_s4EI0b1G6"
   },
   "source": [
    "4. Оставьте только записи о том клиенте или тех клиентах, которые дали максимальное число успешных ответов"
   ]
  },
  {
   "cell_type": "markdown",
   "metadata": {
    "id": "mr3nTLhZb1G6"
   },
   "source": [
    "<details>\n",
    "<summary>&#9658; Нажмите сюда, чтобы увидеть подсказку</summary>\n",
    "  <p>\n",
    "\n",
    "**Работайте с тем агрегированным датафреймом, который получили на втором шаге выполнения этого задания.**\n",
    "      \n",
    "**Используйте аксессор `loc[]`**, внутри которого напишите условие, что количество успешных ответов для каждого клиента равно максимальному числу.\n",
    "\n",
    "**Как использовать аксессор?** Например, код\n",
    "```python\n",
    "series.loc[series > number]\n",
    "```\n",
    "вернет только те строки пандасовской серии `series`, где значения в ней больше, чем число в переменной `number`.\n",
    "      \n",
    "Помните, что один знак равно означает присвоение, а два — проверку на равенство.\n",
    "      \n",
    "**Если на втором шаге выполнения этого задания у вас получилась не серия, а датафрейм, и вы хотите фильтровать с помощью `query`**, перед названием переменной с максимальным числом успешных ответов поставьте `@`. Например:\n",
    "```python\n",
    "df.query('col_1 > @number')\n",
    "```      \n",
    "</p>\n",
    "</details>"
   ]
  },
  {
   "cell_type": "code",
   "execution_count": 6,
   "metadata": {
    "id": "WOdQwmPob1G6"
   },
   "outputs": [
    {
     "data": {
      "text/plain": [
       "client\n",
       "61473    41\n",
       "78349    41\n",
       "36165    41\n",
       "61468    41\n",
       "92584    41\n",
       "28719    41\n",
       "82563    41\n",
       "52870    41\n",
       "12179    41\n",
       "Name: count, dtype: int64"
      ]
     },
     "execution_count": 6,
     "metadata": {},
     "output_type": "execute_result"
    }
   ],
   "source": [
    "# Ваш код здесь\n",
    "\n",
    "logs_success_client.loc[logs_success_client == 41]"
   ]
  },
  {
   "cell_type": "markdown",
   "metadata": {
    "id": "MrNSZuyvb1G6"
   },
   "source": [
    "5. Получите идентификатор(ы) такого клиента / таких клиентов. Если их несколько — отсортируйте идентификаторы по возрастанию. Скопируйте получившийся результат, без скобок"
   ]
  },
  {
   "cell_type": "markdown",
   "metadata": {
    "id": "k7uEFKELb1G6"
   },
   "source": [
    "<details>\n",
    "<summary>&#9658; Нажмите сюда, чтобы увидеть подсказку</summary>\n",
    "  <p>\n",
    "\n",
    "**Чтобы получить идентификаторы клиентов**, возьмите индексы получившейся series, обратившись к атрибуту `index`.\n",
    "      \n",
    "**Как обратиться к атрибуту датафрейма?** Для этого нужно написать переменную, где хранится датафрейм, поставить точку и написать название атрибута (без скобок!). Например:\n",
    "```python\n",
    "df.some_attribute\n",
    "```\n",
    "так мы обратимся к атрибуту `some_attribute` у датафрейма в переменной `df`.       \n",
    "      \n",
    "**Чтобы отсортировать идентификаторы, используйте метод `sort_values()`**. Если хотите отсортировать серию по значениям в индексе, перед сортировкой обратитесь к атрибуту `index`. Например,\n",
    "\n",
    "```python\n",
    "series.index.sort_values()\n",
    "```\n",
    "отсортирует `series` по индексам.\n",
    "\n",
    "Помните, что параметр `ascending` отвечает за сортировку по возрастанию (True - по возрастанию, False - по убыванию).    \n",
    "\n",
    "</p>\n",
    "</details>"
   ]
  },
  {
   "cell_type": "code",
   "execution_count": 7,
   "metadata": {
    "id": "I4zQss7xb1G7"
   },
   "outputs": [
    {
     "data": {
      "text/plain": [
       "Index([12179, 28719, 36165, 52870, 61468, 61473, 78349, 82563, 92584], dtype='int64', name='client')"
      ]
     },
     "execution_count": 7,
     "metadata": {},
     "output_type": "execute_result"
    }
   ],
   "source": [
    "# Ваш код здесь\n",
    "\n",
    "logs_success_client.loc[logs_success_client == 41].index.sort_values()"
   ]
  },
  {
   "cell_type": "markdown",
   "metadata": {
    "id": "4cDmOGwFb1G8"
   },
   "source": [
    "## Шаг 4"
   ]
  },
  {
   "cell_type": "markdown",
   "metadata": {
    "id": "Y5wEsr6Ub1HW"
   },
   "source": [
    "Команда стартапа хочет развивать свою игру, но имеет ограниченные ресурсы, поэтому решила определиться, с какой платформы стоит начать. **Выясните, с какой платформы было дано наибольшее количество успешных ответов**"
   ]
  },
  {
   "cell_type": "markdown",
   "metadata": {
    "id": "nkdgirg9b1HX"
   },
   "source": [
    "Шаги выполнения:\n",
    "1. Как и в предыдущем задании, отберите из данных только те ответы, которые были успешными"
   ]
  },
  {
   "cell_type": "markdown",
   "metadata": {
    "id": "3mjfy8XKb1HX"
   },
   "source": [
    "<details>\n",
    "<summary>&#9658; Нажмите сюда, чтобы увидеть подсказку</summary>\n",
    "  <p>\n",
    "\n",
    "Чтобы отобрать только нужные записи, есть два способа:\n",
    "\n",
    "1) Используйте аксессор `loc[]`, внутри которого напишите условие, что значение в столбце `success` датафрейма `logs` равно `True`.\n",
    "\n",
    "Как использовать аксессор? Например, код\n",
    "```python\n",
    "df.loc[df[\"col_1\"] > 35]\n",
    "```\n",
    "вернет только те строки датафрейма `df`, где значения в колонке `col_1` больше 35\n",
    "\n",
    "2) Используйте метод `query()`, внутри которого напишите строку с условием, что значение в столбце `success` датафрейма `logs` равно `True`. Учтите, что условие нужно писать в кавычках, а название колонки — без кавычек.\n",
    "\n",
    "Как использовать метод? Например применим метод `some_method()` к датафрейму `df`:\n",
    "```python\n",
    "df.some_method()\n",
    "```\n",
    "      \n",
    "Помните, что один знак равно означает присвоение, а два — проверку на равенство\n",
    "      \n",
    "</p>\n",
    "</details>"
   ]
  },
  {
   "cell_type": "code",
   "execution_count": 39,
   "metadata": {
    "id": "j8WtLIDfb1HX"
   },
   "outputs": [
    {
     "data": {
      "text/html": [
       "<div>\n",
       "<style scoped>\n",
       "    .dataframe tbody tr th:only-of-type {\n",
       "        vertical-align: middle;\n",
       "    }\n",
       "\n",
       "    .dataframe tbody tr th {\n",
       "        vertical-align: top;\n",
       "    }\n",
       "\n",
       "    .dataframe thead th {\n",
       "        text-align: right;\n",
       "    }\n",
       "</style>\n",
       "<table border=\"1\" class=\"dataframe\">\n",
       "  <thead>\n",
       "    <tr style=\"text-align: right;\">\n",
       "      <th></th>\n",
       "      <th>client</th>\n",
       "      <th>success</th>\n",
       "      <th>platform</th>\n",
       "      <th>time</th>\n",
       "    </tr>\n",
       "  </thead>\n",
       "  <tbody>\n",
       "    <tr>\n",
       "      <th>0</th>\n",
       "      <td>40177</td>\n",
       "      <td>True</td>\n",
       "      <td>phone</td>\n",
       "      <td>1585412212</td>\n",
       "    </tr>\n",
       "    <tr>\n",
       "      <th>1</th>\n",
       "      <td>61468</td>\n",
       "      <td>True</td>\n",
       "      <td>phone</td>\n",
       "      <td>1585425658</td>\n",
       "    </tr>\n",
       "    <tr>\n",
       "      <th>3</th>\n",
       "      <td>9961</td>\n",
       "      <td>True</td>\n",
       "      <td>phone</td>\n",
       "      <td>1585400189</td>\n",
       "    </tr>\n",
       "    <tr>\n",
       "      <th>4</th>\n",
       "      <td>10931</td>\n",
       "      <td>True</td>\n",
       "      <td>computer</td>\n",
       "      <td>1585468629</td>\n",
       "    </tr>\n",
       "    <tr>\n",
       "      <th>5</th>\n",
       "      <td>41928</td>\n",
       "      <td>True</td>\n",
       "      <td>phone</td>\n",
       "      <td>1585446772</td>\n",
       "    </tr>\n",
       "    <tr>\n",
       "      <th>...</th>\n",
       "      <td>...</td>\n",
       "      <td>...</td>\n",
       "      <td>...</td>\n",
       "      <td>...</td>\n",
       "    </tr>\n",
       "    <tr>\n",
       "      <th>4493</th>\n",
       "      <td>92584</td>\n",
       "      <td>True</td>\n",
       "      <td>computer</td>\n",
       "      <td>1585408896</td>\n",
       "    </tr>\n",
       "    <tr>\n",
       "      <th>4494</th>\n",
       "      <td>95152</td>\n",
       "      <td>True</td>\n",
       "      <td>computer</td>\n",
       "      <td>1585420263</td>\n",
       "    </tr>\n",
       "    <tr>\n",
       "      <th>4496</th>\n",
       "      <td>73299</td>\n",
       "      <td>True</td>\n",
       "      <td>phone</td>\n",
       "      <td>1585458370</td>\n",
       "    </tr>\n",
       "    <tr>\n",
       "      <th>4497</th>\n",
       "      <td>8967</td>\n",
       "      <td>True</td>\n",
       "      <td>phone</td>\n",
       "      <td>1585465121</td>\n",
       "    </tr>\n",
       "    <tr>\n",
       "      <th>4499</th>\n",
       "      <td>40921</td>\n",
       "      <td>True</td>\n",
       "      <td>phone</td>\n",
       "      <td>1585437692</td>\n",
       "    </tr>\n",
       "  </tbody>\n",
       "</table>\n",
       "<p>3289 rows × 4 columns</p>\n",
       "</div>"
      ],
      "text/plain": [
       "      client  success  platform        time\n",
       "0      40177     True     phone  1585412212\n",
       "1      61468     True     phone  1585425658\n",
       "3       9961     True     phone  1585400189\n",
       "4      10931     True  computer  1585468629\n",
       "5      41928     True     phone  1585446772\n",
       "...      ...      ...       ...         ...\n",
       "4493   92584     True  computer  1585408896\n",
       "4494   95152     True  computer  1585420263\n",
       "4496   73299     True     phone  1585458370\n",
       "4497    8967     True     phone  1585465121\n",
       "4499   40921     True     phone  1585437692\n",
       "\n",
       "[3289 rows x 4 columns]"
      ]
     },
     "execution_count": 39,
     "metadata": {},
     "output_type": "execute_result"
    }
   ],
   "source": [
    "# Ваш код здесь\n",
    "\n",
    "logs_success"
   ]
  },
  {
   "cell_type": "markdown",
   "metadata": {
    "id": "z1vGhJtkb1HX"
   },
   "source": [
    "2. Подсчитайте количество успешных ответов с каждой платформы"
   ]
  },
  {
   "cell_type": "markdown",
   "metadata": {
    "id": "UVtEaEZxb1HX"
   },
   "source": [
    "<details>\n",
    "<summary>&#9658; Нажмите сюда, чтобы увидеть подсказку</summary>\n",
    "  <p>\n",
    "\n",
    "Используйте метод `value_counts()`, применив его к столбцу `platform` на отобранных данных (где остались только успешные ответы). Этот метод возвращает серию, где индексы — это уникальные значения из столбца, а значения — это частота их встречаемости.\n",
    "\n",
    "Как использовать метод? Например применим метод `some_method()` к колонке `column_name` датафрейма `df`:\n",
    "```python\n",
    "df.column_name.some_method()\n",
    "```\n",
    "\n",
    "</p>\n",
    "</details>"
   ]
  },
  {
   "cell_type": "code",
   "execution_count": 13,
   "metadata": {},
   "outputs": [
    {
     "data": {
      "text/plain": [
       "platform\n",
       "phone       2019\n",
       "computer    1090\n",
       "tablet       180\n",
       "Name: count, dtype: int64"
      ]
     },
     "execution_count": 13,
     "metadata": {},
     "output_type": "execute_result"
    }
   ],
   "source": [
    "logs_success.platform.value_counts()"
   ]
  },
  {
   "cell_type": "markdown",
   "metadata": {
    "id": "hVQ7_1Sxb1HY"
   },
   "source": [
    "3. Определите платформу с наибольшим количеством успешных ответов"
   ]
  },
  {
   "cell_type": "markdown",
   "metadata": {
    "id": "gH5Hct5Hb1HY"
   },
   "source": [
    "<details>\n",
    "<summary>&#9658; Нажмите сюда, чтобы увидеть подсказку</summary>\n",
    "  <p>\n",
    "\n",
    "Используйте метод `idxmax()`.\n",
    "\n",
    "Как использовать метод? Например применим метод `some_method()` к колонке `column_name` датафрейма `df`:\n",
    "```python\n",
    "df.column_name.some_method()\n",
    "```\n",
    "</p>\n",
    "</details>"
   ]
  },
  {
   "cell_type": "code",
   "execution_count": 14,
   "metadata": {
    "id": "S0Qf1sLvb1HY"
   },
   "outputs": [
    {
     "data": {
      "text/plain": [
       "'phone'"
      ]
     },
     "execution_count": 14,
     "metadata": {},
     "output_type": "execute_result"
    }
   ],
   "source": [
    "# Ваш код здесь\n",
    "\n",
    "logs_success.platform.value_counts() \\\n",
    "    .idxmax()"
   ]
  },
  {
   "cell_type": "markdown",
   "metadata": {
    "id": "8gV2ZaVBb1HZ"
   },
   "source": [
    "## Шаг 5"
   ]
  },
  {
   "cell_type": "markdown",
   "metadata": {
    "id": "CenGjpvob1HZ"
   },
   "source": [
    "Менеджер продукта выдвинул идею, что стоит сфокусироваться не просто на одной платформе, но ещё и только на сегменте премиум. **Определите, какая платформа пользуется наибольшей популярностью среди премиум-клиентов**."
   ]
  },
  {
   "cell_type": "markdown",
   "metadata": {
    "id": "7Jgm3eJdb1Ha"
   },
   "source": [
    "Шаги выполнения:\n",
    "1. Объедините датафреймы `user_data` и `logs` по колонке `client`, чтобы собрать вместе информацию о статусе клиента и его активности в приложении"
   ]
  },
  {
   "cell_type": "markdown",
   "metadata": {
    "id": "_OJXZ9-0b1Ha"
   },
   "source": [
    "<details>\n",
    "<summary>&#9658; Нажмите сюда, чтобы увидеть подсказку</summary>\n",
    "  <p>\n",
    "\n",
    "Используйте метод `merge`, чтобы объединить два датафрейма по колонке. Он применяется к первому из двух датафреймов и принимает как параметр второй датафрейм. Также можно указать, по какой колонке объединять и как. Например:\n",
    "\n",
    "```python\n",
    "df.merge(other_df, on='same_column', how='inner')\n",
    "```\n",
    "где\n",
    "`other_df` — другой датафрэйм\n",
    "`on` — параметр, принимающий название общей колонки в двух датафреймах, по которой нужно объединять\n",
    "`how` — параметр, принимающий тип джойна\n",
    "То есть тут мы объединили `df` с `other_df` по колонке `same_column` типом джойна `inner` (тип можно не указывать, по умолчанию определен `inner`)\n",
    "</p>\n",
    "</details>"
   ]
  },
  {
   "cell_type": "code",
   "execution_count": 40,
   "metadata": {
    "id": "F639yvjWb1Ha"
   },
   "outputs": [
    {
     "data": {
      "text/html": [
       "<div>\n",
       "<style scoped>\n",
       "    .dataframe tbody tr th:only-of-type {\n",
       "        vertical-align: middle;\n",
       "    }\n",
       "\n",
       "    .dataframe tbody tr th {\n",
       "        vertical-align: top;\n",
       "    }\n",
       "\n",
       "    .dataframe thead th {\n",
       "        text-align: right;\n",
       "    }\n",
       "</style>\n",
       "<table border=\"1\" class=\"dataframe\">\n",
       "  <thead>\n",
       "    <tr style=\"text-align: right;\">\n",
       "      <th></th>\n",
       "      <th>client</th>\n",
       "      <th>premium</th>\n",
       "      <th>age</th>\n",
       "      <th>success</th>\n",
       "      <th>platform</th>\n",
       "      <th>time</th>\n",
       "    </tr>\n",
       "  </thead>\n",
       "  <tbody>\n",
       "    <tr>\n",
       "      <th>0</th>\n",
       "      <td>46346</td>\n",
       "      <td>False</td>\n",
       "      <td>58</td>\n",
       "      <td>True</td>\n",
       "      <td>phone</td>\n",
       "      <td>1585452839</td>\n",
       "    </tr>\n",
       "    <tr>\n",
       "      <th>1</th>\n",
       "      <td>4391</td>\n",
       "      <td>False</td>\n",
       "      <td>55</td>\n",
       "      <td>False</td>\n",
       "      <td>phone</td>\n",
       "      <td>1585409861</td>\n",
       "    </tr>\n",
       "    <tr>\n",
       "      <th>2</th>\n",
       "      <td>27372</td>\n",
       "      <td>False</td>\n",
       "      <td>64</td>\n",
       "      <td>False</td>\n",
       "      <td>phone</td>\n",
       "      <td>1585446018</td>\n",
       "    </tr>\n",
       "    <tr>\n",
       "      <th>3</th>\n",
       "      <td>11989</td>\n",
       "      <td>False</td>\n",
       "      <td>44</td>\n",
       "      <td>True</td>\n",
       "      <td>computer</td>\n",
       "      <td>1585403698</td>\n",
       "    </tr>\n",
       "    <tr>\n",
       "      <th>4</th>\n",
       "      <td>60664</td>\n",
       "      <td>False</td>\n",
       "      <td>49</td>\n",
       "      <td>True</td>\n",
       "      <td>phone</td>\n",
       "      <td>1585406918</td>\n",
       "    </tr>\n",
       "    <tr>\n",
       "      <th>...</th>\n",
       "      <td>...</td>\n",
       "      <td>...</td>\n",
       "      <td>...</td>\n",
       "      <td>...</td>\n",
       "      <td>...</td>\n",
       "      <td>...</td>\n",
       "    </tr>\n",
       "    <tr>\n",
       "      <th>3434</th>\n",
       "      <td>19411</td>\n",
       "      <td>False</td>\n",
       "      <td>29</td>\n",
       "      <td>True</td>\n",
       "      <td>phone</td>\n",
       "      <td>1585400902</td>\n",
       "    </tr>\n",
       "    <tr>\n",
       "      <th>3435</th>\n",
       "      <td>61579</td>\n",
       "      <td>False</td>\n",
       "      <td>50</td>\n",
       "      <td>True</td>\n",
       "      <td>phone</td>\n",
       "      <td>1585436158</td>\n",
       "    </tr>\n",
       "    <tr>\n",
       "      <th>3436</th>\n",
       "      <td>61221</td>\n",
       "      <td>True</td>\n",
       "      <td>64</td>\n",
       "      <td>True</td>\n",
       "      <td>phone</td>\n",
       "      <td>1585440218</td>\n",
       "    </tr>\n",
       "    <tr>\n",
       "      <th>3437</th>\n",
       "      <td>29863</td>\n",
       "      <td>False</td>\n",
       "      <td>46</td>\n",
       "      <td>True</td>\n",
       "      <td>tablet</td>\n",
       "      <td>1585443437</td>\n",
       "    </tr>\n",
       "    <tr>\n",
       "      <th>3438</th>\n",
       "      <td>78499</td>\n",
       "      <td>False</td>\n",
       "      <td>36</td>\n",
       "      <td>False</td>\n",
       "      <td>phone</td>\n",
       "      <td>1585425483</td>\n",
       "    </tr>\n",
       "  </tbody>\n",
       "</table>\n",
       "<p>3439 rows × 6 columns</p>\n",
       "</div>"
      ],
      "text/plain": [
       "      client  premium  age  success  platform        time\n",
       "0      46346    False   58     True     phone  1585452839\n",
       "1       4391    False   55    False     phone  1585409861\n",
       "2      27372    False   64    False     phone  1585446018\n",
       "3      11989    False   44     True  computer  1585403698\n",
       "4      60664    False   49     True     phone  1585406918\n",
       "...      ...      ...  ...      ...       ...         ...\n",
       "3434   19411    False   29     True     phone  1585400902\n",
       "3435   61579    False   50     True     phone  1585436158\n",
       "3436   61221     True   64     True     phone  1585440218\n",
       "3437   29863    False   46     True    tablet  1585443437\n",
       "3438   78499    False   36    False     phone  1585425483\n",
       "\n",
       "[3439 rows x 6 columns]"
      ]
     },
     "execution_count": 40,
     "metadata": {},
     "output_type": "execute_result"
    }
   ],
   "source": [
    "# Ваш код здесь\n",
    "\n",
    "user_data.merge(logs, on='client', how='inner')"
   ]
  },
  {
   "cell_type": "markdown",
   "metadata": {
    "id": "BCg1oGtsb1Hb"
   },
   "source": [
    "2. Посмотрите на первые строки получившегося датафрейма, чтобы убедиться, что объединение прошло корректно"
   ]
  },
  {
   "cell_type": "markdown",
   "metadata": {
    "id": "7OT1lJyhb1Hb"
   },
   "source": [
    "<details>\n",
    "<summary>&#9658; Нажмите сюда, чтобы увидеть подсказку</summary>\n",
    "  <p>\n",
    "      \n",
    "**Как посмотреть на содержимое датафрейма?** Используйте метод `head()`\n",
    "      \n",
    "**Как использовать метод?** Например применим метод `some_method()` к датафрейму `df`:\n",
    "```python\n",
    "df.some_method()\n",
    "```\n",
    "</p>\n",
    "</details>"
   ]
  },
  {
   "cell_type": "code",
   "execution_count": 20,
   "metadata": {
    "id": "pBms6ejbb1Hb"
   },
   "outputs": [
    {
     "data": {
      "text/html": [
       "<div>\n",
       "<style scoped>\n",
       "    .dataframe tbody tr th:only-of-type {\n",
       "        vertical-align: middle;\n",
       "    }\n",
       "\n",
       "    .dataframe tbody tr th {\n",
       "        vertical-align: top;\n",
       "    }\n",
       "\n",
       "    .dataframe thead th {\n",
       "        text-align: right;\n",
       "    }\n",
       "</style>\n",
       "<table border=\"1\" class=\"dataframe\">\n",
       "  <thead>\n",
       "    <tr style=\"text-align: right;\">\n",
       "      <th></th>\n",
       "      <th>client</th>\n",
       "      <th>premium</th>\n",
       "      <th>age</th>\n",
       "      <th>success</th>\n",
       "      <th>platform</th>\n",
       "      <th>time</th>\n",
       "    </tr>\n",
       "  </thead>\n",
       "  <tbody>\n",
       "    <tr>\n",
       "      <th>0</th>\n",
       "      <td>46346</td>\n",
       "      <td>False</td>\n",
       "      <td>58</td>\n",
       "      <td>True</td>\n",
       "      <td>phone</td>\n",
       "      <td>1585452839</td>\n",
       "    </tr>\n",
       "    <tr>\n",
       "      <th>1</th>\n",
       "      <td>4391</td>\n",
       "      <td>False</td>\n",
       "      <td>55</td>\n",
       "      <td>False</td>\n",
       "      <td>phone</td>\n",
       "      <td>1585409861</td>\n",
       "    </tr>\n",
       "    <tr>\n",
       "      <th>2</th>\n",
       "      <td>27372</td>\n",
       "      <td>False</td>\n",
       "      <td>64</td>\n",
       "      <td>False</td>\n",
       "      <td>phone</td>\n",
       "      <td>1585446018</td>\n",
       "    </tr>\n",
       "    <tr>\n",
       "      <th>3</th>\n",
       "      <td>11989</td>\n",
       "      <td>False</td>\n",
       "      <td>44</td>\n",
       "      <td>True</td>\n",
       "      <td>computer</td>\n",
       "      <td>1585403698</td>\n",
       "    </tr>\n",
       "    <tr>\n",
       "      <th>4</th>\n",
       "      <td>60664</td>\n",
       "      <td>False</td>\n",
       "      <td>49</td>\n",
       "      <td>True</td>\n",
       "      <td>phone</td>\n",
       "      <td>1585406918</td>\n",
       "    </tr>\n",
       "  </tbody>\n",
       "</table>\n",
       "</div>"
      ],
      "text/plain": [
       "   client  premium  age  success  platform        time\n",
       "0   46346    False   58     True     phone  1585452839\n",
       "1    4391    False   55    False     phone  1585409861\n",
       "2   27372    False   64    False     phone  1585446018\n",
       "3   11989    False   44     True  computer  1585403698\n",
       "4   60664    False   49     True     phone  1585406918"
      ]
     },
     "execution_count": 20,
     "metadata": {},
     "output_type": "execute_result"
    }
   ],
   "source": [
    "# Ваш код здесь\n",
    "\n",
    "user_data.merge(logs, on='client', how='inner').head()"
   ]
  },
  {
   "cell_type": "markdown",
   "metadata": {
    "id": "mZ7fx3Xnb1Hb"
   },
   "source": [
    "3. Отберите из данных только записи о премиум-клиентах"
   ]
  },
  {
   "cell_type": "markdown",
   "metadata": {
    "id": "iB56VRmTb1Hc"
   },
   "source": [
    "<details>\n",
    "<summary>&#9658; Нажмите сюда, чтобы увидеть подсказку</summary>\n",
    "  <p>\n",
    "\n",
    "Чтобы отобрать только нужные записи, есть 2 способа:\n",
    "\n",
    "1) Используйте аксессор `loc[]`, внутри которого напишите условие, что значение в столбце `premium` равно `True`.\n",
    "\n",
    "Как использовать аксессор? Например, код\n",
    "```python\n",
    "df.loc[df[\"col_1\"] > 35]\n",
    "```\n",
    "вернет только те строки датафрейма `df`, где значения в колонке `col_1` больше 35\n",
    "\n",
    "2) Используйте метод `query()`, внутри которого напишите строку с условием, что значение в столбце `premium` равно `True`. Учтите, что условие нужно писать в кавычках, а название колонки - без кавычек.\n",
    "\n",
    "Как использовать метод? Например применим метод `some_method()` к датафрейму `df`:\n",
    "```python\n",
    "df.some_method()\n",
    "```\n",
    "      \n",
    "Помните, что один знак равно означает присвоение, а два - проверку на равенство\n",
    "      \n",
    "</p>\n",
    "</details>"
   ]
  },
  {
   "cell_type": "code",
   "execution_count": 26,
   "metadata": {
    "id": "LSB7s-fnb1Hc"
   },
   "outputs": [
    {
     "data": {
      "text/html": [
       "<div>\n",
       "<style scoped>\n",
       "    .dataframe tbody tr th:only-of-type {\n",
       "        vertical-align: middle;\n",
       "    }\n",
       "\n",
       "    .dataframe tbody tr th {\n",
       "        vertical-align: top;\n",
       "    }\n",
       "\n",
       "    .dataframe thead th {\n",
       "        text-align: right;\n",
       "    }\n",
       "</style>\n",
       "<table border=\"1\" class=\"dataframe\">\n",
       "  <thead>\n",
       "    <tr style=\"text-align: right;\">\n",
       "      <th></th>\n",
       "      <th>client</th>\n",
       "      <th>premium</th>\n",
       "      <th>age</th>\n",
       "      <th>success</th>\n",
       "      <th>platform</th>\n",
       "      <th>time</th>\n",
       "    </tr>\n",
       "  </thead>\n",
       "  <tbody>\n",
       "    <tr>\n",
       "      <th>23</th>\n",
       "      <td>74867</td>\n",
       "      <td>True</td>\n",
       "      <td>27</td>\n",
       "      <td>False</td>\n",
       "      <td>computer</td>\n",
       "      <td>1585452086</td>\n",
       "    </tr>\n",
       "    <tr>\n",
       "      <th>24</th>\n",
       "      <td>49379</td>\n",
       "      <td>True</td>\n",
       "      <td>25</td>\n",
       "      <td>False</td>\n",
       "      <td>computer</td>\n",
       "      <td>1585433626</td>\n",
       "    </tr>\n",
       "    <tr>\n",
       "      <th>25</th>\n",
       "      <td>88203</td>\n",
       "      <td>True</td>\n",
       "      <td>35</td>\n",
       "      <td>True</td>\n",
       "      <td>phone</td>\n",
       "      <td>1585450059</td>\n",
       "    </tr>\n",
       "    <tr>\n",
       "      <th>30</th>\n",
       "      <td>32603</td>\n",
       "      <td>True</td>\n",
       "      <td>20</td>\n",
       "      <td>True</td>\n",
       "      <td>computer</td>\n",
       "      <td>1585473383</td>\n",
       "    </tr>\n",
       "    <tr>\n",
       "      <th>52</th>\n",
       "      <td>53182</td>\n",
       "      <td>True</td>\n",
       "      <td>24</td>\n",
       "      <td>True</td>\n",
       "      <td>phone</td>\n",
       "      <td>1585406474</td>\n",
       "    </tr>\n",
       "    <tr>\n",
       "      <th>...</th>\n",
       "      <td>...</td>\n",
       "      <td>...</td>\n",
       "      <td>...</td>\n",
       "      <td>...</td>\n",
       "      <td>...</td>\n",
       "      <td>...</td>\n",
       "    </tr>\n",
       "    <tr>\n",
       "      <th>3413</th>\n",
       "      <td>52373</td>\n",
       "      <td>True</td>\n",
       "      <td>36</td>\n",
       "      <td>True</td>\n",
       "      <td>phone</td>\n",
       "      <td>1585405142</td>\n",
       "    </tr>\n",
       "    <tr>\n",
       "      <th>3415</th>\n",
       "      <td>13688</td>\n",
       "      <td>True</td>\n",
       "      <td>66</td>\n",
       "      <td>True</td>\n",
       "      <td>computer</td>\n",
       "      <td>1585453923</td>\n",
       "    </tr>\n",
       "    <tr>\n",
       "      <th>3419</th>\n",
       "      <td>40643</td>\n",
       "      <td>True</td>\n",
       "      <td>22</td>\n",
       "      <td>True</td>\n",
       "      <td>phone</td>\n",
       "      <td>1585413473</td>\n",
       "    </tr>\n",
       "    <tr>\n",
       "      <th>3432</th>\n",
       "      <td>53774</td>\n",
       "      <td>True</td>\n",
       "      <td>50</td>\n",
       "      <td>True</td>\n",
       "      <td>phone</td>\n",
       "      <td>1585422804</td>\n",
       "    </tr>\n",
       "    <tr>\n",
       "      <th>3436</th>\n",
       "      <td>61221</td>\n",
       "      <td>True</td>\n",
       "      <td>64</td>\n",
       "      <td>True</td>\n",
       "      <td>phone</td>\n",
       "      <td>1585440218</td>\n",
       "    </tr>\n",
       "  </tbody>\n",
       "</table>\n",
       "<p>420 rows × 6 columns</p>\n",
       "</div>"
      ],
      "text/plain": [
       "      client  premium  age  success  platform        time\n",
       "23     74867     True   27    False  computer  1585452086\n",
       "24     49379     True   25    False  computer  1585433626\n",
       "25     88203     True   35     True     phone  1585450059\n",
       "30     32603     True   20     True  computer  1585473383\n",
       "52     53182     True   24     True     phone  1585406474\n",
       "...      ...      ...  ...      ...       ...         ...\n",
       "3413   52373     True   36     True     phone  1585405142\n",
       "3415   13688     True   66     True  computer  1585453923\n",
       "3419   40643     True   22     True     phone  1585413473\n",
       "3432   53774     True   50     True     phone  1585422804\n",
       "3436   61221     True   64     True     phone  1585440218\n",
       "\n",
       "[420 rows x 6 columns]"
      ]
     },
     "execution_count": 26,
     "metadata": {},
     "output_type": "execute_result"
    }
   ],
   "source": [
    "# Ваш код здесь\n",
    "\n",
    "user_data.merge(logs, on='client', how='inner') \\\n",
    "    .query('premium == True')"
   ]
  },
  {
   "cell_type": "markdown",
   "metadata": {
    "id": "7SZcHK6Fb1Hc"
   },
   "source": [
    "4. Подсчитайте количество ответов премиум-клиентов с каждой платформы"
   ]
  },
  {
   "cell_type": "markdown",
   "metadata": {
    "id": "ZC5kbcMob1Hc"
   },
   "source": [
    "<details>\n",
    "<summary>&#9658; Нажмите сюда, чтобы увидеть подсказку</summary>\n",
    "  <p>\n",
    "\n",
    "Используйте метод `value_counts()`, применяя его к столбцу `platform` на отобранных данных (где остались только ответы премиум-клиентов). Этот метод возвращает серию, где индексы — это уникальные значения из столбца, а значения — это частота их встречаемости.\n",
    "\n",
    "Как использовать метод? Например, применим метод `some_method()` к колонке `column_name` датафрейма `df`:\n",
    "```python\n",
    "df.column_name.some_method()\n",
    "```\n",
    "\n",
    "</p>\n",
    "</details>"
   ]
  },
  {
   "cell_type": "code",
   "execution_count": 31,
   "metadata": {
    "id": "i7YCr7ITb1Hc"
   },
   "outputs": [
    {
     "data": {
      "text/plain": [
       "platform\n",
       "phone       246\n",
       "computer    150\n",
       "tablet       24\n",
       "Name: count, dtype: int64"
      ]
     },
     "execution_count": 31,
     "metadata": {},
     "output_type": "execute_result"
    }
   ],
   "source": [
    "# Ваш код здесь\n",
    "\n",
    "user_data.merge(logs, on='client', how='inner') \\\n",
    "    .query('premium == True') \\\n",
    "    .platform \\\n",
    "    .value_counts()\n"
   ]
  },
  {
   "cell_type": "markdown",
   "metadata": {
    "id": "FtoIt3exb1Hd"
   },
   "source": [
    "5. Определите платформу с наибольшим количеством ответов премиум-клиентов"
   ]
  },
  {
   "cell_type": "markdown",
   "metadata": {
    "id": "ixTz5Oz_b1Hd"
   },
   "source": [
    "<details>\n",
    "<summary>&#9658; Нажмите сюда, чтобы увидеть подсказку</summary>\n",
    "  <p>\n",
    "\n",
    "Используйте метод `idxmax()`.\n",
    "\n",
    "Как использовать метод? Применим метод `some_method()` к колонке `column_name` датафрейма `df`:\n",
    "```python\n",
    "df.column_name.some_method()\n",
    "```\n",
    "</p>\n",
    "</details>"
   ]
  },
  {
   "cell_type": "code",
   "execution_count": 30,
   "metadata": {
    "id": "5KM1YeK_b1Hd"
   },
   "outputs": [
    {
     "data": {
      "text/plain": [
       "'phone'"
      ]
     },
     "execution_count": 30,
     "metadata": {},
     "output_type": "execute_result"
    }
   ],
   "source": [
    "# Ваш код здесь\n",
    "\n",
    "user_data.merge(logs, on='client', how='inner') \\\n",
    "    .query('premium == True') \\\n",
    "    .platform \\\n",
    "    .value_counts() \\\n",
    "    .idxmax()"
   ]
  },
  {
   "cell_type": "markdown",
   "metadata": {
    "id": "dUG5Vsumb1Hg"
   },
   "source": [
    "## Шаг 6"
   ]
  },
  {
   "cell_type": "markdown",
   "metadata": {
    "id": "HderxwCPb1Hg"
   },
   "source": [
    "Самую популярную платформу среди премиум-клиентов определили, но менеджер хочет посмотреть, насколько она более востребованная, чем остальные платформы. Сравнивать числа удобнее не в таблице, а на графике. **С помощью модуля `pyplot` библиотеки `matplotlib` постройте график, демонстрирующий количество ответов премиум-клиентов на каждой платформе**. Выберите наиболее похожий график на тот, что получился у вас.  \n",
    "*Если на графике не видны значения на осях, используйте светлую тему в JupyterHub или посмотрите графики на LMS*"
   ]
  },
  {
   "cell_type": "markdown",
   "metadata": {
    "id": "AY0cTYjHb1Hg"
   },
   "source": [
    "A\n",
    "![A](https://storage.yandexcloud.net/klms-public/production/learning-content/455/4133/35503/98839/469654/A.png)"
   ]
  },
  {
   "cell_type": "markdown",
   "metadata": {
    "id": "BqT7qCs4b1Hh"
   },
   "source": [
    "B\n",
    "![B](https://storage.yandexcloud.net/klms-public/production/learning-content/455/4133/35503/98839/469654/B.png)"
   ]
  },
  {
   "cell_type": "markdown",
   "metadata": {
    "id": "4mAl2AcKb1Hh"
   },
   "source": [
    "C\n",
    "![C](https://storage.yandexcloud.net/klms-public/production/learning-content/455/4133/35503/98839/469654/C.png)"
   ]
  },
  {
   "cell_type": "markdown",
   "metadata": {
    "id": "zZw26ArDb1Hh"
   },
   "source": [
    "Шаги выполнения:\n",
    "1. Как и в прошлом шаге, отберите из данных только записи о премиум-клиентах и подсчитайте количество их ответов для каждой платформы"
   ]
  },
  {
   "cell_type": "markdown",
   "metadata": {
    "id": "JcjPeAyGb1Hh"
   },
   "source": [
    "<details>\n",
    "<summary>&#9658; Нажмите сюда, чтобы увидеть подсказку</summary>\n",
    "  <p>\n",
    "\n",
    "**Чтобы отобрать только нужные записи, есть два способа:**\n",
    "\n",
    "1) Используйте аксессор `loc[]`, внутри которого напишите условие, что значение в столбце `premium` равно `True`.\n",
    "\n",
    "Как использовать аксессор? Например, код\n",
    "```python\n",
    "df.loc[df[\"col_1\"] > 35]\n",
    "```\n",
    "вернет только те строки датафрейма `df`, где значения в колонке `col_1` больше 35.\n",
    "\n",
    "2) Используйте метод `query()`, внутри которого напишите строку с условием, что значение в столбце `premium` равно `True`. Учтите, что условие нужно писать в кавычках, а название колонки — без кавычек.\n",
    "\n",
    "Как использовать метод? Например, применим метод `some_method()` к датафрейму `df`:\n",
    "```python\n",
    "df.some_method()\n",
    "```\n",
    "      \n",
    "Помните, что один знак равно означает присвоение, а два — проверку на равенство.\n",
    "      \n",
    "**Чтобы посчитать количество ответов для каждой платформы**, используйте метод `value_counts()`, применив его к столбцу `platform` на отобранных данных (где остались только ответы премиум-клиентов). Этот метод возвращает серию, где индексы — это уникальные значения из столбца, а значения — это частота их встречаемости.\n",
    "\n",
    "Как использовать метод? Применим метод `some_method()` к колонке `column_name` датафрейма `df`:\n",
    "```python\n",
    "df.column_name.some_method()\n",
    "```\n",
    "\n",
    "      \n",
    "</p>\n",
    "</details>"
   ]
  },
  {
   "cell_type": "code",
   "execution_count": 59,
   "metadata": {
    "id": "BP2dzQa8b1Hh"
   },
   "outputs": [],
   "source": [
    "# Ваш код здесь\n",
    "\n",
    "merged_user_data_logs = user_data.merge(logs, on='client', how='inner') \\\n",
    "    .query('premium == True') \\\n",
    "    .platform \\\n",
    "    .value_counts()"
   ]
  },
  {
   "cell_type": "code",
   "execution_count": 41,
   "metadata": {},
   "outputs": [],
   "source": [
    "merged_user_data_logs = user_data.merge(logs, on='client', how='inner')"
   ]
  },
  {
   "cell_type": "markdown",
   "metadata": {
    "id": "FmSD-9N8b1Hh"
   },
   "source": [
    "2. Импортируйте модуль `pyplot` из библиотеки `matplotlib` с общепринятым алиасом `plt`"
   ]
  },
  {
   "cell_type": "markdown",
   "metadata": {
    "id": "CaL0RO6Eb1Hi"
   },
   "source": [
    "<details>\n",
    "<summary>&#9658; Нажмите сюда, чтобы увидеть подсказку</summary>\n",
    "  <p>Для импорта модуля из библиотеки напишите\n",
    "\n",
    "```python\n",
    "import library.module as shortcut\n",
    "```\n",
    "\n",
    "где вместо `library` подставьте название библиотеки, вместо `module` - название модуля, а вместо `shortcut` - его общераспространённое сокращённое название</p>\n",
    "</details>"
   ]
  },
  {
   "cell_type": "code",
   "execution_count": 58,
   "metadata": {
    "id": "e6zkgHq2b1Hi"
   },
   "outputs": [],
   "source": [
    "# Ваш код здесь\n",
    "\n",
    "import matplotlib.pyplot as plt"
   ]
  },
  {
   "cell_type": "markdown",
   "metadata": {
    "id": "lvlhjeAJb1H7"
   },
   "source": [
    "3. Постройте горизонтальный барплот (столбчатую диаграмму), где по оси y будут названия платформ, а по оси x - количество ответов"
   ]
  },
  {
   "cell_type": "markdown",
   "metadata": {
    "id": "DNXf7F5Db1H8"
   },
   "source": [
    "<details>\n",
    "<summary>&#9658; Нажмите сюда, чтобы увидеть подсказку</summary>\n",
    "  <p>\n",
    "\n",
    "**Передайте в функцию `plt.barh()` два параметра:** сначала названия платформ, а потом количество ответов\n",
    "      \n",
    "Например:      \n",
    "```python\n",
    "plt.barh(df.col_1, df.col_2)\n",
    "```\n",
    "нарисует график на основе данных из датафрейма `df`, где по оси y будут идти значения из колонки `col_1`, а по оси x - из `col_2`\n",
    "      \n",
    "**Как обратиться к названиям платформ и количеству ответов?** После подсчета количества ответов для каждой платформы, названия платформ должны быть в индексе получившейся серии, а количество ответов - в её значениях. Обратиться к индексу можно с помощью атрибута `index`, а к значениям - с помощью атрибута `values`\n",
    "      \n",
    "**Как обратиться к атрибуту серии?** Для этого нужно написать переменную, где хранится серия, поставить точку и написать название атрибута (без скобок!). Например:\n",
    "```python\n",
    "series.some_attribute\n",
    "```\n",
    "так мы обратимся к атрибуту `some_attribute` у серии в переменной `series`\n",
    "</p>\n",
    "</details>"
   ]
  },
  {
   "cell_type": "code",
   "execution_count": 59,
   "metadata": {
    "id": "ffstDEARb1H8"
   },
   "outputs": [
    {
     "ename": "ValueError",
     "evalue": "shape mismatch: objects cannot be broadcast to a single shape.  Mismatch is between arg 2 with shape (3439, 6) and arg 3 with shape (3439,).",
     "output_type": "error",
     "traceback": [
      "\u001b[31m---------------------------------------------------------------------------\u001b[39m",
      "\u001b[31mValueError\u001b[39m                                Traceback (most recent call last)",
      "\u001b[36mCell\u001b[39m\u001b[36m \u001b[39m\u001b[32mIn[59]\u001b[39m\u001b[32m, line 3\u001b[39m\n\u001b[32m      1\u001b[39m \u001b[38;5;66;03m# Ваш код здесь\u001b[39;00m\n\u001b[32m----> \u001b[39m\u001b[32m3\u001b[39m \u001b[43mplt\u001b[49m\u001b[43m.\u001b[49m\u001b[43mbarh\u001b[49m\u001b[43m(\u001b[49m\u001b[43mmerged_user_data_logs\u001b[49m\u001b[43m.\u001b[49m\u001b[43mindex\u001b[49m\u001b[43m,\u001b[49m\u001b[43m \u001b[49m\u001b[43mmerged_user_data_logs\u001b[49m\u001b[43m.\u001b[49m\u001b[43mvalues\u001b[49m\u001b[43m)\u001b[49m\n\u001b[32m      4\u001b[39m plt.show()\n",
      "\u001b[36mFile \u001b[39m\u001b[32m~\\AppData\\Local\\Programs\\Python\\Python313\\Lib\\site-packages\\matplotlib\\pyplot.py:3019\u001b[39m, in \u001b[36mbarh\u001b[39m\u001b[34m(y, width, height, left, align, data, **kwargs)\u001b[39m\n\u001b[32m   3008\u001b[39m \u001b[38;5;129m@_copy_docstring_and_deprecators\u001b[39m(Axes.barh)\n\u001b[32m   3009\u001b[39m \u001b[38;5;28;01mdef\u001b[39;00m\u001b[38;5;250m \u001b[39m\u001b[34mbarh\u001b[39m(\n\u001b[32m   3010\u001b[39m     y: \u001b[38;5;28mfloat\u001b[39m | ArrayLike,\n\u001b[32m   (...)\u001b[39m\u001b[32m   3017\u001b[39m     **kwargs,\n\u001b[32m   3018\u001b[39m ) -> BarContainer:\n\u001b[32m-> \u001b[39m\u001b[32m3019\u001b[39m     \u001b[38;5;28;01mreturn\u001b[39;00m \u001b[43mgca\u001b[49m\u001b[43m(\u001b[49m\u001b[43m)\u001b[49m\u001b[43m.\u001b[49m\u001b[43mbarh\u001b[49m\u001b[43m(\u001b[49m\n\u001b[32m   3020\u001b[39m \u001b[43m        \u001b[49m\u001b[43my\u001b[49m\u001b[43m,\u001b[49m\n\u001b[32m   3021\u001b[39m \u001b[43m        \u001b[49m\u001b[43mwidth\u001b[49m\u001b[43m,\u001b[49m\n\u001b[32m   3022\u001b[39m \u001b[43m        \u001b[49m\u001b[43mheight\u001b[49m\u001b[43m=\u001b[49m\u001b[43mheight\u001b[49m\u001b[43m,\u001b[49m\n\u001b[32m   3023\u001b[39m \u001b[43m        \u001b[49m\u001b[43mleft\u001b[49m\u001b[43m=\u001b[49m\u001b[43mleft\u001b[49m\u001b[43m,\u001b[49m\n\u001b[32m   3024\u001b[39m \u001b[43m        \u001b[49m\u001b[43malign\u001b[49m\u001b[43m=\u001b[49m\u001b[43malign\u001b[49m\u001b[43m,\u001b[49m\n\u001b[32m   3025\u001b[39m \u001b[43m        \u001b[49m\u001b[43m*\u001b[49m\u001b[43m*\u001b[49m\u001b[43m(\u001b[49m\u001b[43m{\u001b[49m\u001b[33;43m\"\u001b[39;49m\u001b[33;43mdata\u001b[39;49m\u001b[33;43m\"\u001b[39;49m\u001b[43m:\u001b[49m\u001b[43m \u001b[49m\u001b[43mdata\u001b[49m\u001b[43m}\u001b[49m\u001b[43m \u001b[49m\u001b[38;5;28;43;01mif\u001b[39;49;00m\u001b[43m \u001b[49m\u001b[43mdata\u001b[49m\u001b[43m \u001b[49m\u001b[38;5;129;43;01mis\u001b[39;49;00m\u001b[43m \u001b[49m\u001b[38;5;129;43;01mnot\u001b[39;49;00m\u001b[43m \u001b[49m\u001b[38;5;28;43;01mNone\u001b[39;49;00m\u001b[43m \u001b[49m\u001b[38;5;28;43;01melse\u001b[39;49;00m\u001b[43m \u001b[49m\u001b[43m{\u001b[49m\u001b[43m}\u001b[49m\u001b[43m)\u001b[49m\u001b[43m,\u001b[49m\n\u001b[32m   3026\u001b[39m \u001b[43m        \u001b[49m\u001b[43m*\u001b[49m\u001b[43m*\u001b[49m\u001b[43mkwargs\u001b[49m\u001b[43m,\u001b[49m\n\u001b[32m   3027\u001b[39m \u001b[43m    \u001b[49m\u001b[43m)\u001b[49m\n",
      "\u001b[36mFile \u001b[39m\u001b[32m~\\AppData\\Local\\Programs\\Python\\Python313\\Lib\\site-packages\\matplotlib\\axes\\_axes.py:2834\u001b[39m, in \u001b[36mAxes.barh\u001b[39m\u001b[34m(self, y, width, height, left, align, data, **kwargs)\u001b[39m\n\u001b[32m   2704\u001b[39m \u001b[38;5;250m\u001b[39m\u001b[33mr\u001b[39m\u001b[33;03m\"\"\"\u001b[39;00m\n\u001b[32m   2705\u001b[39m \u001b[33;03mMake a horizontal bar plot.\u001b[39;00m\n\u001b[32m   2706\u001b[39m \n\u001b[32m   (...)\u001b[39m\u001b[32m   2831\u001b[39m \u001b[33;03m:doc:`/gallery/lines_bars_and_markers/horizontal_barchart_distribution`.\u001b[39;00m\n\u001b[32m   2832\u001b[39m \u001b[33;03m\"\"\"\u001b[39;00m\n\u001b[32m   2833\u001b[39m kwargs.setdefault(\u001b[33m'\u001b[39m\u001b[33morientation\u001b[39m\u001b[33m'\u001b[39m, \u001b[33m'\u001b[39m\u001b[33mhorizontal\u001b[39m\u001b[33m'\u001b[39m)\n\u001b[32m-> \u001b[39m\u001b[32m2834\u001b[39m patches = \u001b[38;5;28;43mself\u001b[39;49m\u001b[43m.\u001b[49m\u001b[43mbar\u001b[49m\u001b[43m(\u001b[49m\u001b[43mx\u001b[49m\u001b[43m=\u001b[49m\u001b[43mleft\u001b[49m\u001b[43m,\u001b[49m\u001b[43m \u001b[49m\u001b[43mheight\u001b[49m\u001b[43m=\u001b[49m\u001b[43mheight\u001b[49m\u001b[43m,\u001b[49m\u001b[43m \u001b[49m\u001b[43mwidth\u001b[49m\u001b[43m=\u001b[49m\u001b[43mwidth\u001b[49m\u001b[43m,\u001b[49m\u001b[43m \u001b[49m\u001b[43mbottom\u001b[49m\u001b[43m=\u001b[49m\u001b[43my\u001b[49m\u001b[43m,\u001b[49m\n\u001b[32m   2835\u001b[39m \u001b[43m                   \u001b[49m\u001b[43malign\u001b[49m\u001b[43m=\u001b[49m\u001b[43malign\u001b[49m\u001b[43m,\u001b[49m\u001b[43m \u001b[49m\u001b[43mdata\u001b[49m\u001b[43m=\u001b[49m\u001b[43mdata\u001b[49m\u001b[43m,\u001b[49m\u001b[43m \u001b[49m\u001b[43m*\u001b[49m\u001b[43m*\u001b[49m\u001b[43mkwargs\u001b[49m\u001b[43m)\u001b[49m\n\u001b[32m   2836\u001b[39m \u001b[38;5;28;01mreturn\u001b[39;00m patches\n",
      "\u001b[36mFile \u001b[39m\u001b[32m~\\AppData\\Local\\Programs\\Python\\Python313\\Lib\\site-packages\\matplotlib\\__init__.py:1521\u001b[39m, in \u001b[36m_preprocess_data.<locals>.inner\u001b[39m\u001b[34m(ax, data, *args, **kwargs)\u001b[39m\n\u001b[32m   1518\u001b[39m \u001b[38;5;129m@functools\u001b[39m.wraps(func)\n\u001b[32m   1519\u001b[39m \u001b[38;5;28;01mdef\u001b[39;00m\u001b[38;5;250m \u001b[39m\u001b[34minner\u001b[39m(ax, *args, data=\u001b[38;5;28;01mNone\u001b[39;00m, **kwargs):\n\u001b[32m   1520\u001b[39m     \u001b[38;5;28;01mif\u001b[39;00m data \u001b[38;5;129;01mis\u001b[39;00m \u001b[38;5;28;01mNone\u001b[39;00m:\n\u001b[32m-> \u001b[39m\u001b[32m1521\u001b[39m         \u001b[38;5;28;01mreturn\u001b[39;00m \u001b[43mfunc\u001b[49m\u001b[43m(\u001b[49m\n\u001b[32m   1522\u001b[39m \u001b[43m            \u001b[49m\u001b[43max\u001b[49m\u001b[43m,\u001b[49m\n\u001b[32m   1523\u001b[39m \u001b[43m            \u001b[49m\u001b[43m*\u001b[49m\u001b[38;5;28;43mmap\u001b[39;49m\u001b[43m(\u001b[49m\u001b[43mcbook\u001b[49m\u001b[43m.\u001b[49m\u001b[43msanitize_sequence\u001b[49m\u001b[43m,\u001b[49m\u001b[43m \u001b[49m\u001b[43margs\u001b[49m\u001b[43m)\u001b[49m\u001b[43m,\u001b[49m\n\u001b[32m   1524\u001b[39m \u001b[43m            \u001b[49m\u001b[43m*\u001b[49m\u001b[43m*\u001b[49m\u001b[43m{\u001b[49m\u001b[43mk\u001b[49m\u001b[43m:\u001b[49m\u001b[43m \u001b[49m\u001b[43mcbook\u001b[49m\u001b[43m.\u001b[49m\u001b[43msanitize_sequence\u001b[49m\u001b[43m(\u001b[49m\u001b[43mv\u001b[49m\u001b[43m)\u001b[49m\u001b[43m \u001b[49m\u001b[38;5;28;43;01mfor\u001b[39;49;00m\u001b[43m \u001b[49m\u001b[43mk\u001b[49m\u001b[43m,\u001b[49m\u001b[43m \u001b[49m\u001b[43mv\u001b[49m\u001b[43m \u001b[49m\u001b[38;5;129;43;01min\u001b[39;49;00m\u001b[43m \u001b[49m\u001b[43mkwargs\u001b[49m\u001b[43m.\u001b[49m\u001b[43mitems\u001b[49m\u001b[43m(\u001b[49m\u001b[43m)\u001b[49m\u001b[43m}\u001b[49m\u001b[43m)\u001b[49m\n\u001b[32m   1526\u001b[39m     bound = new_sig.bind(ax, *args, **kwargs)\n\u001b[32m   1527\u001b[39m     auto_label = (bound.arguments.get(label_namer)\n\u001b[32m   1528\u001b[39m                   \u001b[38;5;129;01mor\u001b[39;00m bound.kwargs.get(label_namer))\n",
      "\u001b[36mFile \u001b[39m\u001b[32m~\\AppData\\Local\\Programs\\Python\\Python313\\Lib\\site-packages\\matplotlib\\axes\\_axes.py:2583\u001b[39m, in \u001b[36mAxes.bar\u001b[39m\u001b[34m(self, x, height, width, bottom, align, **kwargs)\u001b[39m\n\u001b[32m   2580\u001b[39m     \u001b[38;5;28;01mif\u001b[39;00m yerr \u001b[38;5;129;01mis\u001b[39;00m \u001b[38;5;129;01mnot\u001b[39;00m \u001b[38;5;28;01mNone\u001b[39;00m:\n\u001b[32m   2581\u001b[39m         yerr = \u001b[38;5;28mself\u001b[39m._convert_dx(yerr, y0, y, \u001b[38;5;28mself\u001b[39m.convert_yunits)\n\u001b[32m-> \u001b[39m\u001b[32m2583\u001b[39m x, height, width, y, linewidth, hatch = \u001b[43mnp\u001b[49m\u001b[43m.\u001b[49m\u001b[43mbroadcast_arrays\u001b[49m\u001b[43m(\u001b[49m\n\u001b[32m   2584\u001b[39m \u001b[43m    \u001b[49m\u001b[38;5;66;43;03m# Make args iterable too.\u001b[39;49;00m\n\u001b[32m   2585\u001b[39m \u001b[43m    \u001b[49m\u001b[43mnp\u001b[49m\u001b[43m.\u001b[49m\u001b[43matleast_1d\u001b[49m\u001b[43m(\u001b[49m\u001b[43mx\u001b[49m\u001b[43m)\u001b[49m\u001b[43m,\u001b[49m\u001b[43m \u001b[49m\u001b[43mheight\u001b[49m\u001b[43m,\u001b[49m\u001b[43m \u001b[49m\u001b[43mwidth\u001b[49m\u001b[43m,\u001b[49m\u001b[43m \u001b[49m\u001b[43my\u001b[49m\u001b[43m,\u001b[49m\u001b[43m \u001b[49m\u001b[43mlinewidth\u001b[49m\u001b[43m,\u001b[49m\u001b[43m \u001b[49m\u001b[43mhatch\u001b[49m\u001b[43m)\u001b[49m\n\u001b[32m   2587\u001b[39m \u001b[38;5;66;03m# Now that units have been converted, set the tick locations.\u001b[39;00m\n\u001b[32m   2588\u001b[39m \u001b[38;5;28;01mif\u001b[39;00m orientation == \u001b[33m'\u001b[39m\u001b[33mvertical\u001b[39m\u001b[33m'\u001b[39m:\n",
      "\u001b[36mFile \u001b[39m\u001b[32m~\\AppData\\Local\\Programs\\Python\\Python313\\Lib\\site-packages\\numpy\\lib\\_stride_tricks_impl.py:544\u001b[39m, in \u001b[36mbroadcast_arrays\u001b[39m\u001b[34m(subok, *args)\u001b[39m\n\u001b[32m    537\u001b[39m \u001b[38;5;66;03m# nditer is not used here to avoid the limit of 32 arrays.\u001b[39;00m\n\u001b[32m    538\u001b[39m \u001b[38;5;66;03m# Otherwise, something like the following one-liner would suffice:\u001b[39;00m\n\u001b[32m    539\u001b[39m \u001b[38;5;66;03m# return np.nditer(args, flags=['multi_index', 'zerosize_ok'],\u001b[39;00m\n\u001b[32m    540\u001b[39m \u001b[38;5;66;03m#                  order='C').itviews\u001b[39;00m\n\u001b[32m    542\u001b[39m args = [np.array(_m, copy=\u001b[38;5;28;01mNone\u001b[39;00m, subok=subok) \u001b[38;5;28;01mfor\u001b[39;00m _m \u001b[38;5;129;01min\u001b[39;00m args]\n\u001b[32m--> \u001b[39m\u001b[32m544\u001b[39m shape = \u001b[43m_broadcast_shape\u001b[49m\u001b[43m(\u001b[49m\u001b[43m*\u001b[49m\u001b[43margs\u001b[49m\u001b[43m)\u001b[49m\n\u001b[32m    546\u001b[39m result = [array \u001b[38;5;28;01mif\u001b[39;00m array.shape == shape\n\u001b[32m    547\u001b[39m           \u001b[38;5;28;01melse\u001b[39;00m _broadcast_to(array, shape, subok=subok, readonly=\u001b[38;5;28;01mFalse\u001b[39;00m)\n\u001b[32m    548\u001b[39m                           \u001b[38;5;28;01mfor\u001b[39;00m array \u001b[38;5;129;01min\u001b[39;00m args]\n\u001b[32m    549\u001b[39m \u001b[38;5;28;01mreturn\u001b[39;00m \u001b[38;5;28mtuple\u001b[39m(result)\n",
      "\u001b[36mFile \u001b[39m\u001b[32m~\\AppData\\Local\\Programs\\Python\\Python313\\Lib\\site-packages\\numpy\\lib\\_stride_tricks_impl.py:419\u001b[39m, in \u001b[36m_broadcast_shape\u001b[39m\u001b[34m(*args)\u001b[39m\n\u001b[32m    414\u001b[39m \u001b[38;5;250m\u001b[39m\u001b[33;03m\"\"\"Returns the shape of the arrays that would result from broadcasting the\u001b[39;00m\n\u001b[32m    415\u001b[39m \u001b[33;03msupplied arrays against each other.\u001b[39;00m\n\u001b[32m    416\u001b[39m \u001b[33;03m\"\"\"\u001b[39;00m\n\u001b[32m    417\u001b[39m \u001b[38;5;66;03m# use the old-iterator because np.nditer does not handle size 0 arrays\u001b[39;00m\n\u001b[32m    418\u001b[39m \u001b[38;5;66;03m# consistently\u001b[39;00m\n\u001b[32m--> \u001b[39m\u001b[32m419\u001b[39m b = \u001b[43mnp\u001b[49m\u001b[43m.\u001b[49m\u001b[43mbroadcast\u001b[49m\u001b[43m(\u001b[49m\u001b[43m*\u001b[49m\u001b[43margs\u001b[49m\u001b[43m[\u001b[49m\u001b[43m:\u001b[49m\u001b[32;43m32\u001b[39;49m\u001b[43m]\u001b[49m\u001b[43m)\u001b[49m\n\u001b[32m    420\u001b[39m \u001b[38;5;66;03m# unfortunately, it cannot handle 32 or more arguments directly\u001b[39;00m\n\u001b[32m    421\u001b[39m \u001b[38;5;28;01mfor\u001b[39;00m pos \u001b[38;5;129;01min\u001b[39;00m \u001b[38;5;28mrange\u001b[39m(\u001b[32m32\u001b[39m, \u001b[38;5;28mlen\u001b[39m(args), \u001b[32m31\u001b[39m):\n\u001b[32m    422\u001b[39m     \u001b[38;5;66;03m# ironically, np.broadcast does not properly handle np.broadcast\u001b[39;00m\n\u001b[32m    423\u001b[39m     \u001b[38;5;66;03m# objects (it treats them as scalars)\u001b[39;00m\n\u001b[32m    424\u001b[39m     \u001b[38;5;66;03m# use broadcasting to avoid allocating the full array\u001b[39;00m\n",
      "\u001b[31mValueError\u001b[39m: shape mismatch: objects cannot be broadcast to a single shape.  Mismatch is between arg 2 with shape (3439, 6) and arg 3 with shape (3439,)."
     ]
    },
    {
     "data": {
      "image/png": "[encoded data removed]",
      "text/plain": [
       "<Figure size 640x480 with 1 Axes>"
      ]
     },
     "metadata": {},
     "output_type": "display_data"
    }
   ],
   "source": [
    "# Ваш код здесь\n",
    "\n",
    "plt.barh(merged_user_data_logs.index, merged_user_data_logs.values)\n",
    "plt.show()"
   ]
  },
  {
   "cell_type": "markdown",
   "metadata": {
    "id": "MmmRqt5Kb1H8"
   },
   "source": [
    "4. Выберите наиболее похожий график на тот, что получился у вас"
   ]
  },
  {
   "cell_type": "markdown",
   "metadata": {
    "id": "fzoQ-GrKb1H8"
   },
   "source": [
    "<details>\n",
    "<summary>&#9658; Нажмите сюда, чтобы увидеть подсказку</summary>\n",
    "  <p>\n",
    "\n",
    "Обратите внимание на значения на осях.\n",
    "      \n",
    "Проверьте, что считаете только ответы премиум-клиентов, а для построения графика используете именно функцию plt.bar**h**()\n",
    "</details>"
   ]
  },
  {
   "cell_type": "markdown",
   "metadata": {
    "id": "xnvxn8eGb1H-"
   },
   "source": [
    "## Шаг 7"
   ]
  },
  {
   "cell_type": "markdown",
   "metadata": {
    "id": "kZ9jdG5pb1H-"
   },
   "source": [
    "Продожим раскручивать идею о том, что нашей команде стоит сфокусироваться на работе именно с премиум-клиентами. Посмотрите на долю неуспешных ответов от всего количества ответов — отдельно у премиум и обычных клиентов. **У какой категории клиентов доля неуспешных ответов выше?**\n",
    "\n",
    "Варианты ответа:\n",
    "- премиум  \n",
    "- обычные"
   ]
  },
  {
   "cell_type": "markdown",
   "metadata": {
    "id": "r4kUz5Vyb1H-"
   },
   "source": [
    "Шаги выполнения:\n",
    "1. Сгруппируйте объединенный датафрейм, полученный на прошлом шаге, по категории клиентов (см.колонку `premium`) и успешности ответа (см.колонку `success`), затем посчитайте количество записей для каждой группы"
   ]
  },
  {
   "cell_type": "markdown",
   "metadata": {
    "id": "8Q4vswUFb1H_"
   },
   "source": [
    "<details>\n",
    "<summary>&#9658; Нажмите сюда, чтобы увидеть подсказку</summary>\n",
    "  <p>\n",
    "\n",
    "**Сгруппируйте данные одновременно по двум колонкам — `premium` и `success`**, используя метод `groupby()`, и рассчитайте количество записей для каждой группы.\n",
    "      \n",
    "**Как сгруппировать по нескольким колонкам?** Передайте в метод `groupby()` не строку-название колонки, а список с названиями колонок. Например:\n",
    "```python\n",
    "df.groupby(['col_1', 'col_2'])\n",
    "```\n",
    "сгруппирует по комбинации значений `col_1` и `col_2`.\n",
    "      \n",
    "**Не забудьте использовать параметр `as_index = False` при группировке, это нам понадобится для следующего шага.**\n",
    "\n",
    "**После группировки используйте метод `agg()`**, в котором примените агрегирующую функцию `count` к любому столбцу, который не использовали в группировке, в котором нет пропущенных значений — здесь можете использовать столбец `client`. Тогда этот метод посчитает количество записей для каждой группы.\n",
    "\n",
    "**Как использовать метод `agg()`?** Например, применим его к датафрейму `df` и посчитаем сумму по столбцу `column_name`:\n",
    "```python\n",
    "df.agg({'column_name':'sum'})\n",
    "```\n",
    "\n",
    "**Как использовать метод `agg()` после группировки?** Используйте цепочку методов, применив их друг за другом. Например:\n",
    "```python\n",
    "df.some_method_1().some_method_2()\n",
    "```      \n",
    "</p>\n",
    "</details>\n",
    "</p>\n",
    "</details>"
   ]
  },
  {
   "cell_type": "code",
   "execution_count": 42,
   "metadata": {
    "id": "9WNToBOMb1H_"
   },
   "outputs": [],
   "source": [
    "# Ваш код здесь\n",
    "\n",
    "df3 = merged_user_data_logs.groupby(['premium', 'success'], as_index = False) \\\n",
    "    .agg({'client': 'count'})"
   ]
  },
  {
   "cell_type": "code",
   "execution_count": 43,
   "metadata": {},
   "outputs": [
    {
     "data": {
      "text/html": [
       "<div>\n",
       "<style scoped>\n",
       "    .dataframe tbody tr th:only-of-type {\n",
       "        vertical-align: middle;\n",
       "    }\n",
       "\n",
       "    .dataframe tbody tr th {\n",
       "        vertical-align: top;\n",
       "    }\n",
       "\n",
       "    .dataframe thead th {\n",
       "        text-align: right;\n",
       "    }\n",
       "</style>\n",
       "<table border=\"1\" class=\"dataframe\">\n",
       "  <thead>\n",
       "    <tr style=\"text-align: right;\">\n",
       "      <th></th>\n",
       "      <th>premium</th>\n",
       "      <th>success</th>\n",
       "      <th>client</th>\n",
       "    </tr>\n",
       "  </thead>\n",
       "  <tbody>\n",
       "    <tr>\n",
       "      <th>0</th>\n",
       "      <td>False</td>\n",
       "      <td>False</td>\n",
       "      <td>775</td>\n",
       "    </tr>\n",
       "    <tr>\n",
       "      <th>1</th>\n",
       "      <td>False</td>\n",
       "      <td>True</td>\n",
       "      <td>2244</td>\n",
       "    </tr>\n",
       "    <tr>\n",
       "      <th>2</th>\n",
       "      <td>True</td>\n",
       "      <td>False</td>\n",
       "      <td>117</td>\n",
       "    </tr>\n",
       "    <tr>\n",
       "      <th>3</th>\n",
       "      <td>True</td>\n",
       "      <td>True</td>\n",
       "      <td>303</td>\n",
       "    </tr>\n",
       "  </tbody>\n",
       "</table>\n",
       "</div>"
      ],
      "text/plain": [
       "   premium  success  client\n",
       "0    False    False     775\n",
       "1    False     True    2244\n",
       "2     True    False     117\n",
       "3     True     True     303"
      ]
     },
     "execution_count": 43,
     "metadata": {},
     "output_type": "execute_result"
    }
   ],
   "source": [
    "df3"
   ]
  },
  {
   "cell_type": "markdown",
   "metadata": {
    "id": "0lWXmOJIb1H_"
   },
   "source": [
    "2. Преобразуйте форму агрегированного датафрейма так, чтобы в строках была категория клиента (премиум или нет), в колонках успешность результата (да или нет), а в значениях — количество записей для каждой группы"
   ]
  },
  {
   "cell_type": "markdown",
   "metadata": {
    "id": "9uiIEA1Zb1H_"
   },
   "source": [
    "<details>\n",
    "<summary>&#9658; Нажмите сюда, чтобы увидеть подсказку</summary>\n",
    "  <p>\n",
    "\n",
    "**Используйте метод `pivot()`**. В параметр `index` передайте название колонки с категорией клиента, в параметр `columns` - название колонки с успешностью результата, а в параметр `values` - название колонки с количеством записей для каждой группы\n",
    "\n",
    "**Как использовать метод?** Например применим метод `some_method()` к датафрейму `df`:\n",
    "```python\n",
    "df.some_method()\n",
    "```\n",
    "\n",
    "**Если не получается**, убедитесь, что вы использовали параметр `as_index = False` при группировке\n",
    "</p>\n",
    "</details>"
   ]
  },
  {
   "cell_type": "code",
   "execution_count": 44,
   "metadata": {
    "id": "yDpxg-DDb1H_"
   },
   "outputs": [
    {
     "data": {
      "text/html": [
       "<div>\n",
       "<style scoped>\n",
       "    .dataframe tbody tr th:only-of-type {\n",
       "        vertical-align: middle;\n",
       "    }\n",
       "\n",
       "    .dataframe tbody tr th {\n",
       "        vertical-align: top;\n",
       "    }\n",
       "\n",
       "    .dataframe thead th {\n",
       "        text-align: right;\n",
       "    }\n",
       "</style>\n",
       "<table border=\"1\" class=\"dataframe\">\n",
       "  <thead>\n",
       "    <tr style=\"text-align: right;\">\n",
       "      <th>success</th>\n",
       "      <th>False</th>\n",
       "      <th>True</th>\n",
       "    </tr>\n",
       "    <tr>\n",
       "      <th>premium</th>\n",
       "      <th></th>\n",
       "      <th></th>\n",
       "    </tr>\n",
       "  </thead>\n",
       "  <tbody>\n",
       "    <tr>\n",
       "      <th>False</th>\n",
       "      <td>775</td>\n",
       "      <td>2244</td>\n",
       "    </tr>\n",
       "    <tr>\n",
       "      <th>True</th>\n",
       "      <td>117</td>\n",
       "      <td>303</td>\n",
       "    </tr>\n",
       "  </tbody>\n",
       "</table>\n",
       "</div>"
      ],
      "text/plain": [
       "success  False  True \n",
       "premium              \n",
       "False      775   2244\n",
       "True       117    303"
      ]
     },
     "execution_count": 44,
     "metadata": {},
     "output_type": "execute_result"
    }
   ],
   "source": [
    "# Ваш код здесь\n",
    "\n",
    "table3 = df3.pivot(index='premium', columns='success', values='client')\n",
    "table3"
   ]
  },
  {
   "cell_type": "markdown",
   "metadata": {
    "id": "b4knWHm3b1IA"
   },
   "source": [
    "3. Создайте новую колонку с долей неуспешных ответов от всего количества ответов. Для этого разделите колонку с числом неуспешных ответов на сумму значений из колонок с числом успешных и неуспешных ответов"
   ]
  },
  {
   "cell_type": "markdown",
   "metadata": {
    "id": "0RENlXL9b1IA"
   },
   "source": [
    "<details>\n",
    "<summary>&#9658; Нажмите сюда, чтобы увидеть подсказку</summary>\n",
    "  <p>\n",
    "\n",
    "**Как создать новую колонку?** Достаточно написать такой код:\n",
    "```python\n",
    "df['new_column'] = some_value\n",
    "```\n",
    "где `df` — датафрейм, `new_column` — название новой колонки, `some_value` — то, чему будет равна колонка (это может быть одно число или колонка датафрейма, где число элементов такое же как число строк в `df`).\n",
    "      \n",
    "**Как сложить или разделить значения в двух колонках?** Арифметические операции с пандасовскимии колонками делаются очень просто — прямо как с питоновскими числами. Например, этот код:\n",
    "```python\n",
    "df.column1 * df.column2\n",
    "```\n",
    "умножит все значения из колонки `column1` датафрейма `df` на соответствующие элементы колонки `column2`. Число элементов в обеих колонках должно быть одинаковым.\n",
    "      \n",
    "**Чтобы задать очередность действий** (сложение, а потом деление), используйте скобки.\n",
    "      \n",
    "**Чтобы обратиться к колонкам, которые называются `True` или `False`,** напишите эти названия как обычно, в квадратных скобках, но **без кавычек**. Например:\n",
    "```python\n",
    "df[True]\n",
    "```\n",
    "так мы обратимся к колонке с названием `True` датафрейма `df`\n",
    "</p>\n",
    "</details>"
   ]
  },
  {
   "cell_type": "code",
   "execution_count": 52,
   "metadata": {
    "id": "vw9hZ0Knb1IA"
   },
   "outputs": [],
   "source": [
    "# Ваш код здесь\n",
    "\n",
    "table3[True]\n",
    "table3['new_col'] = table3[False] / (table3[False] + table3[True])"
   ]
  },
  {
   "cell_type": "code",
   "execution_count": 54,
   "metadata": {},
   "outputs": [
    {
     "data": {
      "text/html": [
       "<div>\n",
       "<style scoped>\n",
       "    .dataframe tbody tr th:only-of-type {\n",
       "        vertical-align: middle;\n",
       "    }\n",
       "\n",
       "    .dataframe tbody tr th {\n",
       "        vertical-align: top;\n",
       "    }\n",
       "\n",
       "    .dataframe thead th {\n",
       "        text-align: right;\n",
       "    }\n",
       "</style>\n",
       "<table border=\"1\" class=\"dataframe\">\n",
       "  <thead>\n",
       "    <tr style=\"text-align: right;\">\n",
       "      <th>success</th>\n",
       "      <th>False</th>\n",
       "      <th>True</th>\n",
       "      <th>new_col</th>\n",
       "    </tr>\n",
       "    <tr>\n",
       "      <th>premium</th>\n",
       "      <th></th>\n",
       "      <th></th>\n",
       "      <th></th>\n",
       "    </tr>\n",
       "  </thead>\n",
       "  <tbody>\n",
       "    <tr>\n",
       "      <th>False</th>\n",
       "      <td>775</td>\n",
       "      <td>2244</td>\n",
       "      <td>0.256708</td>\n",
       "    </tr>\n",
       "    <tr>\n",
       "      <th>True</th>\n",
       "      <td>117</td>\n",
       "      <td>303</td>\n",
       "      <td>0.278571</td>\n",
       "    </tr>\n",
       "  </tbody>\n",
       "</table>\n",
       "</div>"
      ],
      "text/plain": [
       "success  False  True   new_col\n",
       "premium                       \n",
       "False      775  2244  0.256708\n",
       "True       117   303  0.278571"
      ]
     },
     "execution_count": 54,
     "metadata": {},
     "output_type": "execute_result"
    }
   ],
   "source": [
    "table3"
   ]
  },
  {
   "cell_type": "markdown",
   "metadata": {
    "id": "3S0ST20gb1IA"
   },
   "source": [
    "4. Посмотрите на новую колонку: у какой категории клиентов (премиум или обычных) доля неуспешных ответов выше, т.е. в какой строке значение больше?"
   ]
  },
  {
   "cell_type": "markdown",
   "metadata": {
    "id": "R18IeqzDb1IA"
   },
   "source": [
    "<details>\n",
    "<summary>&#9658; Нажмите сюда, чтобы увидеть подсказку</summary>\n",
    "  <p>\n",
    "\n",
    "Это можно сделать, посмотрев на значения глазами - код здесь не нужен.\n",
    "      \n",
    "В строке с индексом `False` будет значение доли для обычных клиентов, а в строке с индексом `True` - для премиум\n",
    "</p>\n",
    "</details>"
   ]
  },
  {
   "cell_type": "markdown",
   "metadata": {
    "id": "DLGAHm-wb1IC"
   },
   "source": [
    "## Шаг 8"
   ]
  },
  {
   "cell_type": "markdown",
   "metadata": {
    "id": "ZmEyctRlb1IC"
   },
   "source": [
    "У команды всё ещё есть сомнения по поводу работы только с премиум-клиентами. Посмотрим, как возраст премиум-клиентов отличается от возраста обычных. **Для сравнения распределения возраста у премиум и обычных клиентов постройте две гистограммы в одном пространстве, используя функцию `plt.subplot()` из библиотеки `matplotlib`**. В обоих графиках по оси х должен идти возраст, а по оси у - количество клиентов с таким возрастом.\n",
    "\n",
    "Выберите верные утверждения:  \n",
    "- премиум-клиентов возраста примерно 35-39 лет больше, чем обычных клиентов этого же возраста\n",
    "- премиум-клиентов возраста примерно 35-39 лет меньше, чем обычных клиентов этого же возраста\n",
    "- у премиум-клиентов в каждую категорию возраста (столбец) попадает абсолютно одинаковое количество клиентов\n",
    "- у обычных клиентов в каждую категорию возраста (столбец) попадает абсолютно одинаковое количество клиентов\n",
    "- среди премиум-клиентов больше тех, кому примерно 25-30 лет, чем тех, кому примерно 20-25 лет\n",
    "- среди премиум-клиентов меньше тех, кому примерно 25-30 лет, чем тех, кому примерно 20-25 лет\n",
    "- у нас чуть больше 40 премиум-клиентов возраста ориентировочно 65-69 лет\n",
    "- у нас около 400 премиум-клиентов возраста ориентировочно 65-69 лет"
   ]
  },
  {
   "cell_type": "markdown",
   "metadata": {
    "id": "fHaMsxX9b1IC"
   },
   "source": [
    "Шаги выполнения:\n",
    "1. Используя функции `plt.subplot()` и `plt.hist()`, постройте два графика, один над другим. Первый должен показывать распределение возраста только премиум-клиентов, а второй - только обычных клиентов"
   ]
  },
  {
   "cell_type": "markdown",
   "metadata": {
    "id": "8Pc8QPOmb1IC"
   },
   "source": [
    "<details>\n",
    "<summary>&#9658; Нажмите сюда, чтобы увидеть подсказку</summary>\n",
    "  <p>\n",
    "\n",
    "**Для построения первого графика** передайте в функцию `plt.subplot()` три числовых аргумента: количество рядов (в нашем случае их будет 2), количество столбцов (у нас будет 1) и индекс этого графика (для первого графика индекс будет 1). А в функцию `plt.hist()` - данные о возрасте только премиум-клиентов. Для этого отфильтруйте датафрейм по колонке `premium` и обратитесь к колонке `age`.\n",
    "      \n",
    "Гистограмма должна показывать по оси у именно **количество** клиентов с таким возрастом, поэтому нормализацию распределения делать не нужно, параметр `density` не задавайте.\n",
    "\n",
    "**Как сочетать функции `plt.subplot()` и `plt.hist()`?** Задайте на первой строчке функцию `plt.subplot()`, а на второй строчке в этой же ячейке кода - функцию `plt.hist()`\n",
    "      \n",
    "**Для построения второго графика** сделайте аналогично, но индекс графика в функции `plt.subplot()` будет 2, а в функцию `plt.hist()` нужно передать данные о возрасте только  обычных клиентов\n",
    "      \n",
    "**Весь код построения визуализации пишите в одной ячейке**\n",
    "   \n",
    "</p>\n",
    "</details>"
   ]
  },
  {
   "cell_type": "code",
   "execution_count": 24,
   "metadata": {
    "id": "ZBw6o6_Jb1IC"
   },
   "outputs": [],
   "source": [
    "# Ваш код здесь\n",
    "\n"
   ]
  },
  {
   "cell_type": "markdown",
   "metadata": {
    "id": "ajYayeTqb1ID"
   },
   "source": [
    "2. Чтобы удобнее было читать графики, добавьте детали: заголовок, подписи осей, сетку и другие элементы по вашему выбору"
   ]
  },
  {
   "cell_type": "markdown",
   "metadata": {
    "id": "MzC16oYjb1ID"
   },
   "source": [
    "<details>\n",
    "<summary>&#9658; Нажмите сюда, чтобы увидеть подсказку</summary>\n",
    "  <p>\n",
    "\n",
    "**Чтобы добавить заголовок,** передайте в функцию `plt.title()` строку с названием графика. Так как у нас два графика, один под другим, то вы можете добавить заголовок только к верхнему графику.\n",
    "      \n",
    "**Чтобы добавить подписи осей,** передайте в функцию `plt.ylabel()` строку с названием оси у, а в функцию `plt.xlabel()` строку с названием оси х. В подпись оси у стоит написать категорию клиентов (премиум или обычные), а оси х - переменную, по которой строится распределение (возраст). Так как у нас два графика, один под другим, то вы можете добавить подпись оси х только к нижнему графику.\n",
    "      \n",
    "**Чтобы добавить сетку,** передайте в функцию `plt.grid()` значение `True`\n",
    "      \n",
    "**Куда писать эти функции?** Под каждой функцией визуализации, на отдельной строчке, но в той же ячейке\n",
    "</p>\n",
    "</details>"
   ]
  },
  {
   "cell_type": "code",
   "execution_count": 25,
   "metadata": {
    "id": "2viTsulCb1ID"
   },
   "outputs": [],
   "source": [
    "# Ваш код здесь\n",
    "\n"
   ]
  },
  {
   "cell_type": "markdown",
   "metadata": {
    "id": "en0AqLFyb1ID"
   },
   "source": [
    "3. Посмотрите на получившийся график и выберите верные утверждения"
   ]
  },
  {
   "cell_type": "markdown",
   "metadata": {
    "id": "DruMN7_Vb1ID"
   },
   "source": [
    "<details>\n",
    "<summary>&#9658; Нажмите сюда, чтобы увидеть подсказку</summary>\n",
    "  <p>\n",
    "\n",
    "Обращайте внимание не только на высоту столбцов, но и на значения по оси у.\n",
    "      \n",
    "Помните, что на верхнем графике данные по возрасту премиум-клиентов, а на нижнем - обычных клиентов\n",
    "</p>\n",
    "</details>"
   ]
  },
  {
   "cell_type": "markdown",
   "metadata": {
    "id": "EFv5xRHwb1IE"
   },
   "source": [
    "## Шаг 9"
   ]
  },
  {
   "cell_type": "markdown",
   "metadata": {
    "id": "W1tX2p4bb1IE"
   },
   "source": [
    "Посмотрев на аналитику по премиум-клиентам, команда стартапа решила всё-таки работать со всеми категориями клиентов и в первую очередь обратить внимание на число успешных и неуспешных ответов. Так ваша работа повлияла на работу всей команды. Но не время останавливаться!\n",
    "\n",
    "**Постройте график, отражающий распределение количества успешных ответов на пользователя.** По оси `x` должно идти число успешных ответов, а по оси `y` - сколько пользователей дали такое число успешных ответов\n",
    "\n",
    "**Выберите одно или несколько верных утверждений**"
   ]
  },
  {
   "cell_type": "markdown",
   "metadata": {
    "id": "YT7CECX5b1IF"
   },
   "source": [
    "Шаги выполнения:\n",
    "1. Как и в задании из Шага 3, отберите из данных только те ответы, которые были успешными. Это значит, что вам надо найти все строки, где значение в столбце `success` датафрейма `logs` равно `True`"
   ]
  },
  {
   "cell_type": "markdown",
   "metadata": {
    "id": "Fw_9o9Qdb1IF"
   },
   "source": [
    "<details>\n",
    "<summary>&#9658; Нажмите сюда, чтобы увидеть подсказку</summary>\n",
    "  <p>\n",
    "\n",
    "Чтобы отобрать только нужные записи, есть 2 способа:\n",
    "\n",
    "1) Используйте аксессор `loc[]`, внутри которого напишите условие, что значение в столбце `success` датафрейма `logs` равно `True`.\n",
    "\n",
    "Как использовать аксессор? Например, код\n",
    "```python\n",
    "df.loc[df[\"col_1\"] > 35]\n",
    "```\n",
    "вернет только те строки датафрейма `df`, где значения в колонке `col_1` больше 35\n",
    "\n",
    "2) Используйте метод `query()`, внутри которого напишите строку с условием, что значение в столбце `success` датафрейма `logs` равно `True`. Учтите, что условие нужно писать в кавычках, а название колонки - без кавычек.\n",
    "\n",
    "Как использовать метод? Например применим метод `some_method()` к датафрейму `df`:\n",
    "```python\n",
    "df.some_method()\n",
    "```\n",
    "      \n",
    "Помните, что один знак равно означает присвоение, а два - проверку на равенство\n",
    "      \n",
    "</p>\n",
    "</details>"
   ]
  },
  {
   "cell_type": "code",
   "execution_count": 26,
   "metadata": {
    "id": "g8JlKpoZb1IF"
   },
   "outputs": [],
   "source": [
    "# Ваш код здесь\n",
    "\n"
   ]
  },
  {
   "cell_type": "markdown",
   "metadata": {
    "id": "mO7OXiOkb1IQ"
   },
   "source": [
    "2. Подсчитайте количество успешных ответов для каждого клиента"
   ]
  },
  {
   "cell_type": "markdown",
   "metadata": {
    "id": "bGiuIZpeb1IR"
   },
   "source": [
    "<details>\n",
    "<summary>&#9658; Нажмите сюда, чтобы увидеть подсказку</summary>\n",
    "  <p>\n",
    "\n",
    "Используйте метод `value_counts()`, применив его к столбцу `client` на отобранных данных (где остались только успешные ответы). Этот метод возвращает серию, где индексы — это уникальные значения из столбца, а значения — это частота их встречаемости.\n",
    "\n",
    "Как использовать метод? Например применим метод `some_method()` к колонке `column_name` датафрейма `df`:\n",
    "```python\n",
    "df.column_name.some_method()\n",
    "```\n",
    "\n",
    "</p>\n",
    "</details>"
   ]
  },
  {
   "cell_type": "code",
   "execution_count": 27,
   "metadata": {
    "id": "QPg7HuyNb1IR"
   },
   "outputs": [],
   "source": [
    "# Ваш код здесь\n",
    "\n"
   ]
  },
  {
   "cell_type": "markdown",
   "metadata": {
    "id": "l9_6A_Ulb1IR"
   },
   "source": [
    "3. Чтобы не запутаться в значениях, переименуйте получившуюся серию - сейчас колонка в ней называется `client`, хотя в ней число успешных ответов"
   ]
  },
  {
   "cell_type": "markdown",
   "metadata": {
    "id": "Yt1fKlFXb1IR"
   },
   "source": [
    "<details>\n",
    "<summary>&#9658; Нажмите сюда, чтобы увидеть подсказку</summary>\n",
    "  <p>\n",
    "\n",
    "Для переименования серии, примените к ней метод `rename()` и передайте в него новое название колонки. Например:\n",
    "\n",
    "```python\n",
    "series = series.rename('new_name')\n",
    "```\n",
    "</p>\n",
    "</details>"
   ]
  },
  {
   "cell_type": "code",
   "execution_count": 28,
   "metadata": {
    "id": "vvfi41owb1IR"
   },
   "outputs": [],
   "source": [
    "# Ваш код здесь\n",
    "\n"
   ]
  },
  {
   "cell_type": "markdown",
   "metadata": {
    "id": "7IV2Q6plb1IS"
   },
   "source": [
    "4. Импортируйте библиотеку `seaborn` с общепринятым алиасом (псевдонимом) `sns`"
   ]
  },
  {
   "cell_type": "markdown",
   "metadata": {
    "id": "_ebIBUfMb1IS"
   },
   "source": [
    "<details>\n",
    "<summary>&#9658; Нажмите сюда, чтобы увидеть подсказку</summary>\n",
    "  <p>\n",
    "\n",
    "Для импорта библиотеки напишите\n",
    "```python\n",
    "import library as shortcut\n",
    "```\n",
    "где вместо `library` подставьте название библиотеки, а вместо `shortcut` - его общераспространённое сокращённое название\n",
    "</p>\n",
    "</details>"
   ]
  },
  {
   "cell_type": "code",
   "execution_count": 29,
   "metadata": {
    "id": "CenOUotkb1IS"
   },
   "outputs": [],
   "source": [
    "# Ваш код здесь\n",
    "\n"
   ]
  },
  {
   "cell_type": "markdown",
   "metadata": {
    "id": "sV9RKtWYb1IS"
   },
   "source": [
    "5. На основе получившейся серии постройте график, отражающий распределение количества успешных ответов на пользователя. Чтобы по оси x шло число успешных ответов, а по оси y - сколько пользователей дали такое число успешных ответов, используйте функцию `countplot()` из библиотеки `seaborn`"
   ]
  },
  {
   "cell_type": "markdown",
   "metadata": {
    "id": "G1MzLlkhb1IS"
   },
   "source": [
    "<details>\n",
    "<summary>&#9658; Нажмите сюда, чтобы увидеть подсказку</summary>\n",
    "  <p>\n",
    "\n",
    "Передайте в функцию `sns.countplot()` в параметр `x` - название серии с количеством успешных ответов для каждого клиента. **Функция сама посчитает, сколько клиентов (т.е. записей в серии) имеют то или иное число успешных ответов**\n",
    "      \n",
    "Например:      \n",
    "```python\n",
    "sns.countplot(x = series)\n",
    "```\n",
    "нарисует график на основе данных из серии `series`\n",
    "</p>\n",
    "</details>"
   ]
  },
  {
   "cell_type": "code",
   "execution_count": 30,
   "metadata": {
    "id": "FyQMNXIub1IS"
   },
   "outputs": [],
   "source": [
    "# Ваш код здесь\n",
    "\n"
   ]
  },
  {
   "cell_type": "markdown",
   "metadata": {
    "id": "mX7l3gqkb1IU"
   },
   "source": [
    "## Шаг 10"
   ]
  },
  {
   "cell_type": "markdown",
   "metadata": {
    "id": "ZMCchxBJb1IU"
   },
   "source": [
    "Копнем глубже и узнаем, **клиенты какого возраста дали наибольшее количество успешных ответов на компьютере?** Визуализируйте число успешных ответов, сделанных на платформе `computer`, в зависимости от возраста. По оси `x` будет идти возраст, по оси `y` – число успешных ответов.\n",
    "\n",
    "Если из-за размера график получается нечитаемым, можно добавить `plt.figure(figsize=(12, 8))` в начало соответствующей ячейки c кодом построения визуализации"
   ]
  },
  {
   "cell_type": "markdown",
   "metadata": {
    "id": "Yhignsrgb1IU"
   },
   "source": [
    "Шаги выполнения:\n",
    "1. Оставьте только записи об успешных ответах (см.колонку `success`) с платформы компьютер (см.колонку `platform`)"
   ]
  },
  {
   "cell_type": "markdown",
   "metadata": {
    "id": "K8VkbXn4b1IW"
   },
   "source": [
    "<details>\n",
    "<summary>&#9658; Нажмите сюда, чтобы увидеть подсказку</summary>\n",
    "  <p>\n",
    "\n",
    "**Чтобы отобрать только нужные записи, используйте метод `query()`**, внутри которого напишите строку с двойным условием: значение в колонке `success` равно True и платформа в колонке `platform` - computer.\n",
    "\n",
    "Как использовать метод? Например применим метод `some_method()` к датафрейму `df`:\n",
    "```python\n",
    "df.some_method()\n",
    "```\n",
    "      \n",
    "Между условиями поставьте логический оператор: `and` (или `&`), если оба условия обязательно должны выполняться. Или оператор `or` (или `|`), если должно выполняться хотя бы одно из условий.\n",
    "      \n",
    "Учтите, что оба условия нужно писать в единых кавычках, а каждое условие и названия колонок - без кавычек. Целые числа и булевы значения (True, False) также пишутся без кавычек, а строки - в кавычках (двойных или одинарных - главное, не тех, в которые взяты оба условия)\n",
    "      \n",
    "Помните, что один знак равно означает присвоение, а два - проверку на равенство.\n",
    "      \n",
    "</p>\n",
    "</details>"
   ]
  },
  {
   "cell_type": "code",
   "execution_count": 31,
   "metadata": {
    "id": "KEgLZuXLb1IX"
   },
   "outputs": [],
   "source": [
    "# Ваш код здесь\n",
    "\n"
   ]
  },
  {
   "cell_type": "markdown",
   "metadata": {
    "id": "jYBp-fKab1IX"
   },
   "source": [
    "2. С помощью функции `sns.countplot()` постройте график числа успешных ответов в зависимости от возраста. По оси `x` будет идти возраст, по оси `y` – число успешных ответов."
   ]
  },
  {
   "cell_type": "markdown",
   "metadata": {
    "id": "Ml_-GVY4b1IX"
   },
   "source": [
    "<details>\n",
    "<summary>&#9658; Нажмите сюда, чтобы увидеть подсказку</summary>\n",
    "  <p>\n",
    "\n",
    "Передайте в функцию `sns.countplot()` следующие параметры:  \n",
    "      `data` — название датафрейма, в котором остались только записи об успешных ответах с платформы компьютер  \n",
    "      `x` — название колонки с возрастом\n",
    "      \n",
    "Например:      \n",
    "```python\n",
    "sns.countplot(data = df, x = 'col_1')\n",
    "```\n",
    "нарисует график на основе данных из датафрейма `df`, где по оси х будут идти значения из колонки `col_1`.\n",
    "      \n",
    "**Функция сама посчитает, сколько ответов дали клиенты каждого возраста. Агрегировать данные не нужно**\n",
    "</p>\n",
    "</details>"
   ]
  },
  {
   "cell_type": "code",
   "execution_count": 32,
   "metadata": {
    "id": "LjQPejivb1IX"
   },
   "outputs": [],
   "source": [
    "# Ваш код здесь\n",
    "\n"
   ]
  },
  {
   "cell_type": "markdown",
   "metadata": {
    "id": "3pz8eRqDb1IX"
   },
   "source": [
    "3. Определите, клиенты какого возраста дали наибольшее количество успешных ответов на компьютере. Для этого найдите значение на оси х для самого высокого столбца на графике. Чтобы можно было прочитать график, добавьте строку кода `plt.figure(figsize=(12, 8))` в начало ячейки c кодом построения графика"
   ]
  },
  {
   "cell_type": "markdown",
   "metadata": {
    "id": "Y5wuY6Sub1IY"
   },
   "source": [
    "<details>\n",
    "<summary>&#9658; Нажмите сюда, чтобы увидеть подсказку</summary>\n",
    "  <p>\n",
    "\n",
    "Скопируйте строку кода `plt.figure(figsize=(12, 8))` в начало ячейки, а дальше в этой же ячейке постройте график с помощью функции `sns.countplot()` по алгоритму, описанному выше.\n",
    "</p>\n",
    "</details>"
   ]
  },
  {
   "cell_type": "code",
   "execution_count": 33,
   "metadata": {
    "id": "sLfYmYMRb1IY"
   },
   "outputs": [],
   "source": [
    "# Ваш код здесь\n",
    "\n"
   ]
  },
  {
   "cell_type": "markdown",
   "metadata": {
    "id": "-7lui4UNb1IZ"
   },
   "source": [
    "## Итоги"
   ]
  },
  {
   "cell_type": "markdown",
   "metadata": {
    "id": "OX2mLZYnb1IZ"
   },
   "source": [
    "Итак, вы собрали ту аналитику, которая на данном этапе требовалась команде геймдев-стартапа для принятия решения о векторе развития продукта. В процессе вы отработали навыки объединения данных и изменения их формы, а также построения графиков и принятия решений на основе визуализации."
   ]
  }
 ],
 "metadata": {
  "colab": {
   "provenance": []
  },
  "kernelspec": {
   "display_name": "Python 3 (ipykernel)",
   "language": "python",
   "name": "python3"
  },
  "language_info": {
   "codemirror_mode": {
    "name": "ipython",
    "version": 3
   },
   "file_extension": ".py",
   "mimetype": "text/x-python",
   "name": "python",
   "nbconvert_exporter": "python",
   "pygments_lexer": "ipython3",
   "version": "3.13.5"
  }
 },
 "nbformat": 4,
 "nbformat_minor": 4
}
